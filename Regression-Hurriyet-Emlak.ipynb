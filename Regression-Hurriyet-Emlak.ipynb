{
  "nbformat": 4,
  "nbformat_minor": 0,
  "metadata": {
    "colab": {
      "name": "Regression Final Project.ipynb",
      "provenance": [],
      "collapsed_sections": []
    },
    "kernelspec": {
      "name": "python3",
      "display_name": "Python 3"
    },
    "accelerator": "GPU"
  },
  "cells": [
    {
      "cell_type": "code",
      "metadata": {
        "id": "M5q2FvCU5QRi"
      },
      "source": [
        "import requests\n",
        "from bs4 import BeautifulSoup\n",
        "import pandas as pn\n",
        "import numpy as np\n"
      ],
      "execution_count": null,
      "outputs": []
    },
    {
      "cell_type": "markdown",
      "metadata": {
        "id": "uDXan2bJBjnl"
      },
      "source": [
        "#Aşağıdaki sistem colab da çalışmadı ben de jupyter de çalıştırıp verileri alıp bilgisyara yükledim oradan da buraya"
      ]
    },
    {
      "cell_type": "code",
      "metadata": {
        "id": "0yGL_SkjbSrA"
      },
      "source": [
        "sehir='ankara'\n",
        "sayfa=5                 #İlandan kaç sayfa veri çekmek istiyorsanız buraya yazınız\n",
        "                        # Her bir sayfadaki ilanların bir listesini oluşturalım\n",
        "liste=[]\n",
        "for i in range(1,sayfa):\n",
        "  url=\"https://www.hurriyetemlak.com/\"+sehir+\"-kiralik?page=\"+str(i)\n",
        "  response=requests.get(url)\n",
        "  soup = BeautifulSoup(response.text, \"html.parser\")\n",
        "  soup.beautify\n",
        "  liste.append(soup)\n",
        "\n",
        "listeler=[BeautifulSoup(requests.get(\"https://www.hurriyetemlak.com/\"+sehir+\"-kiralik?page=\"+str(i)).text,\"html.parser\") for i in range(1,10)]\n",
        "\n"
      ],
      "execution_count": null,
      "outputs": []
    },
    {
      "cell_type": "code",
      "metadata": {
        "colab": {
          "base_uri": "https://localhost:8080/"
        },
        "id": "dDQ8VJDfcL3b",
        "outputId": "45eda6c2-ce09-433d-a6cf-c8ab0abc3026"
      },
      "source": [
        "# Her ilan için bir link oluşturup ilan detay sayfasına gidelim\n",
        "soups=[]\n",
        "for soup in listeler:\n",
        "  print(soup.findAll('a', href=True))\n",
        "  for link in soup.findAll('a', href=True):\n",
        "    print(4)\n",
        "    if ('kiralik' in link['href']) and (link['class']==['card-link']):\n",
        "          url=\"https://www.hurriyetemlak.com\" + link['href']\n",
        "          response=requests.get(url) \n",
        "          soup = BeautifulSoup(response.text, \"html.parser\")\n",
        "          soup.beautify\n",
        "          soups.append(soup)\n"
      ],
      "execution_count": null,
      "outputs": [
        {
          "output_type": "stream",
          "text": [
            "[]\n",
            "[]\n",
            "[]\n",
            "[]\n",
            "[]\n",
            "[]\n",
            "[]\n",
            "[]\n",
            "[]\n"
          ],
          "name": "stdout"
        }
      ]
    },
    {
      "cell_type": "code",
      "metadata": {
        "colab": {
          "base_uri": "https://localhost:8080/"
        },
        "id": "VhvrAis4dTyb",
        "outputId": "b5e2c441-4857-4cfb-9970-34e47a6b3332"
      },
      "source": [
        "# Tüm ilan detay sayfalaındaki bilgileri bir listeleyelim.  \n",
        "for soup in soups:\n",
        "  for ul in soup.findAll(\"ul\",{\"class\":\"adv-info-list\"}):\n",
        "    for i in range(len(ul.findAll('li'))):\n",
        "      print(4)\n",
        "      print( ul.findAll('li')[i].findAll('span')[0].text+\":\"+ ul.findAll('li')[i].findAll('span')[1].text)\n",
        "soups\n",
        "            "
      ],
      "execution_count": null,
      "outputs": [
        {
          "output_type": "execute_result",
          "data": {
            "text/plain": [
              "[]"
            ]
          },
          "metadata": {
            "tags": []
          },
          "execution_count": 54
        }
      ]
    },
    {
      "cell_type": "code",
      "metadata": {
        "colab": {
          "base_uri": "https://localhost:8080/"
        },
        "id": "bxgXA5vHeG0F",
        "outputId": "64e95feb-ed6e-4a19-8c7b-13586f758343"
      },
      "source": [
        "# Her ilanda farklı sayıda özellik var bu yüzden dinamik bir tablo oluşturmak gerek.\n",
        "a=[]\n",
        "for soup in soups:\n",
        "    for ul in soup.findAll(\"ul\",{\"class\":\"adv-info-list\"}):\n",
        "        a.append(len(ul.findAll('li')))\n",
        "a"
      ],
      "execution_count": null,
      "outputs": [
        {
          "output_type": "execute_result",
          "data": {
            "text/plain": [
              "[]"
            ]
          },
          "metadata": {
            "tags": []
          },
          "execution_count": 28
        }
      ]
    },
    {
      "cell_type": "code",
      "metadata": {
        "id": "IdQTNMylek4R"
      },
      "source": [
        "#İlan detay sayfasından gelecek tüm alanlar için boş bir DataFrame oluşturalım\n",
        "df=pd.DataFrame()\n",
        "for soup in soups:\n",
        "    row={} #her ilan detayı için bir sözlük oluşturalım\n",
        "    row['Fiyat']= soup.findAll('p',{\"class\":\"fontRB fz24 price\"})[0].text\n",
        "    for ul in soup.findAll(\"ul\",{\"class\":\"adv-info-list\"}):\n",
        "        for i in range(len(ul.findAll('li'))):\n",
        "            row[ul.findAll('li')[i].findAll('span')[0].text]= ul.findAll('li')[i].findAll('span')[1].text\n",
        "    df = df.append(row, ignore_index=True)\n",
        "        # Sözlükteki alanlar ile df alanları uyuştukça ekleme yapacak uyuşmayan alanlar için boş geçecek"
      ],
      "execution_count": null,
      "outputs": []
    },
    {
      "cell_type": "markdown",
      "metadata": {
        "id": "XkYVcR9ABdrD"
      },
      "source": [
        "# bu kodlar burada çalışmadığı için jupyterde yaptım ankara csv dosyası oluşturdum."
      ]
    },
    {
      "cell_type": "code",
      "metadata": {
        "colab": {
          "base_uri": "https://localhost:8080/"
        },
        "id": "eh8QF-tBplC4",
        "outputId": "d3423e25-0a83-4671-e73a-9b188cd050de"
      },
      "source": [
        "from google.colab import drive\n",
        "drive.mount(\"/content/drive\")\n",
        "#veri dosyalarını eklemek için link"
      ],
      "execution_count": null,
      "outputs": [
        {
          "output_type": "stream",
          "text": [
            "Mounted at /content/drive\n"
          ],
          "name": "stdout"
        }
      ]
    },
    {
      "cell_type": "code",
      "metadata": {
        "colab": {
          "resources": {
            "http://localhost:8080/nbextensions/google.colab/files.js": {
              "data": "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",
              "ok": true,
              "headers": [
                [
                  "content-type",
                  "application/javascript"
                ]
              ],
              "status": 200,
              "status_text": ""
            }
          },
          "base_uri": "https://localhost:8080/",
          "height": 72
        },
        "id": "xtSH7dRYqHYA",
        "outputId": "020103fb-cb63-45e5-dd71-1ee39a535735"
      },
      "source": [
        "from google.colab import files\n",
        "uploaded=files.upload()\n",
        "#dosyaları eklemek içi"
      ],
      "execution_count": null,
      "outputs": [
        {
          "output_type": "display_data",
          "data": {
            "text/html": [
              "\n",
              "     <input type=\"file\" id=\"files-39ac838e-4ac1-4f72-91a0-2cfd5c2cf2b5\" name=\"files[]\" multiple disabled\n",
              "        style=\"border:none\" />\n",
              "     <output id=\"result-39ac838e-4ac1-4f72-91a0-2cfd5c2cf2b5\">\n",
              "      Upload widget is only available when the cell has been executed in the\n",
              "      current browser session. Please rerun this cell to enable.\n",
              "      </output>\n",
              "      <script src=\"/nbextensions/google.colab/files.js\"></script> "
            ],
            "text/plain": [
              "<IPython.core.display.HTML object>"
            ]
          },
          "metadata": {
            "tags": []
          }
        },
        {
          "output_type": "stream",
          "text": [
            "Saving ankara.csv to ankara.csv\n"
          ],
          "name": "stdout"
        }
      ]
    },
    {
      "cell_type": "code",
      "metadata": {
        "id": "mWo7vRDRHWm4"
      },
      "source": [
        "import pandas as pn"
      ],
      "execution_count": null,
      "outputs": []
    },
    {
      "cell_type": "code",
      "metadata": {
        "id": "q_ualBSafrd_"
      },
      "source": [
        "Tablo=pn.read_csv(\"ankara.csv\")"
      ],
      "execution_count": null,
      "outputs": []
    },
    {
      "cell_type": "code",
      "metadata": {
        "colab": {
          "base_uri": "https://localhost:8080/"
        },
        "id": "HdondbCPga-8",
        "outputId": "4d47ab4e-c280-4a51-9dc7-b99405a35f7c"
      },
      "source": [
        "Tablo.info()"
      ],
      "execution_count": null,
      "outputs": [
        {
          "output_type": "stream",
          "text": [
            "<class 'pandas.core.frame.DataFrame'>\n",
            "RangeIndex: 514 entries, 0 to 513\n",
            "Data columns (total 25 columns):\n",
            " #   Column                 Non-Null Count  Dtype  \n",
            "---  ------                 --------------  -----  \n",
            " 0   Aidat                  408 non-null    object \n",
            " 1   Banyo Sayısı           512 non-null    float64\n",
            " 2   Bina Yaşı              512 non-null    object \n",
            " 3   Brüt / Net M2          512 non-null    object \n",
            " 4   Bulunduğu Kat          501 non-null    object \n",
            " 5   Depozito               442 non-null    object \n",
            " 6   Eşya Durumu            512 non-null    object \n",
            " 7   Fiyat                  512 non-null    object \n",
            " 8   Isınma Tipi            512 non-null    object \n",
            " 9   Kat Sayısı             511 non-null    object \n",
            " 10  Konut Şekli            512 non-null    object \n",
            " 11  Kullanım Durumu        485 non-null    object \n",
            " 12  Oda + Salon Sayısı     512 non-null    object \n",
            " 13  Son Güncelleme Tarihi  512 non-null    object \n",
            " 14  Yakıt Tipi             482 non-null    object \n",
            " 15  Yapı Tipi              463 non-null    object \n",
            " 16  Yapının Durumu         459 non-null    object \n",
            " 17  İlan Durumu            512 non-null    object \n",
            " 18  İlan no                512 non-null    object \n",
            " 19  Cephe                  447 non-null    object \n",
            " 20  Site İçerisinde        137 non-null    object \n",
            " 21  Krediye Uygunluk       8 non-null      object \n",
            " 22  Takas                  6 non-null      object \n",
            " 23  Tapu Durumu            5 non-null      object \n",
            " 24  Kira Getirisi          4 non-null      object \n",
            "dtypes: float64(1), object(24)\n",
            "memory usage: 100.5+ KB\n"
          ],
          "name": "stdout"
        }
      ]
    },
    {
      "cell_type": "code",
      "metadata": {
        "id": "huuRjS5qgrx7"
      },
      "source": [
        "Tablo.drop(['Kira Getirisi','Tapu Durumu','Takas','Krediye Uygunluk'],axis=1,inplace=True)"
      ],
      "execution_count": null,
      "outputs": []
    },
    {
      "cell_type": "code",
      "metadata": {
        "colab": {
          "base_uri": "https://localhost:8080/",
          "height": 182
        },
        "id": "VascE1wt8T1J",
        "outputId": "5208a409-c5f7-42d0-ae8b-c76f2603050a"
      },
      "source": [
        "Tablo[Tablo['Bina Yaşı'].isnull()]"
      ],
      "execution_count": null,
      "outputs": [
        {
          "output_type": "execute_result",
          "data": {
            "text/html": [
              "<div>\n",
              "<style scoped>\n",
              "    .dataframe tbody tr th:only-of-type {\n",
              "        vertical-align: middle;\n",
              "    }\n",
              "\n",
              "    .dataframe tbody tr th {\n",
              "        vertical-align: top;\n",
              "    }\n",
              "\n",
              "    .dataframe thead th {\n",
              "        text-align: right;\n",
              "    }\n",
              "</style>\n",
              "<table border=\"1\" class=\"dataframe\">\n",
              "  <thead>\n",
              "    <tr style=\"text-align: right;\">\n",
              "      <th></th>\n",
              "      <th>Aidat</th>\n",
              "      <th>Banyo Sayısı</th>\n",
              "      <th>Bina Yaşı</th>\n",
              "      <th>Brüt / Net M2</th>\n",
              "      <th>Bulunduğu Kat</th>\n",
              "      <th>Depozito</th>\n",
              "      <th>Eşya Durumu</th>\n",
              "      <th>Fiyat</th>\n",
              "      <th>Isınma Tipi</th>\n",
              "      <th>Kat Sayısı</th>\n",
              "      <th>Konut Şekli</th>\n",
              "      <th>Kullanım Durumu</th>\n",
              "      <th>Oda + Salon Sayısı</th>\n",
              "      <th>Son Güncelleme Tarihi</th>\n",
              "      <th>Yakıt Tipi</th>\n",
              "      <th>Yapı Tipi</th>\n",
              "      <th>Yapının Durumu</th>\n",
              "      <th>İlan Durumu</th>\n",
              "      <th>İlan no</th>\n",
              "      <th>Cephe</th>\n",
              "      <th>Site İçerisinde</th>\n",
              "    </tr>\n",
              "  </thead>\n",
              "  <tbody>\n",
              "    <tr>\n",
              "      <th>113</th>\n",
              "      <td>NaN</td>\n",
              "      <td>NaN</td>\n",
              "      <td>NaN</td>\n",
              "      <td>NaN</td>\n",
              "      <td>NaN</td>\n",
              "      <td>NaN</td>\n",
              "      <td>NaN</td>\n",
              "      <td>NaN</td>\n",
              "      <td>NaN</td>\n",
              "      <td>NaN</td>\n",
              "      <td>NaN</td>\n",
              "      <td>NaN</td>\n",
              "      <td>NaN</td>\n",
              "      <td>NaN</td>\n",
              "      <td>NaN</td>\n",
              "      <td>NaN</td>\n",
              "      <td>NaN</td>\n",
              "      <td>NaN</td>\n",
              "      <td>NaN</td>\n",
              "      <td>NaN</td>\n",
              "      <td>NaN</td>\n",
              "    </tr>\n",
              "    <tr>\n",
              "      <th>237</th>\n",
              "      <td>NaN</td>\n",
              "      <td>NaN</td>\n",
              "      <td>NaN</td>\n",
              "      <td>NaN</td>\n",
              "      <td>NaN</td>\n",
              "      <td>NaN</td>\n",
              "      <td>NaN</td>\n",
              "      <td>NaN</td>\n",
              "      <td>NaN</td>\n",
              "      <td>NaN</td>\n",
              "      <td>NaN</td>\n",
              "      <td>NaN</td>\n",
              "      <td>NaN</td>\n",
              "      <td>NaN</td>\n",
              "      <td>NaN</td>\n",
              "      <td>NaN</td>\n",
              "      <td>NaN</td>\n",
              "      <td>NaN</td>\n",
              "      <td>NaN</td>\n",
              "      <td>NaN</td>\n",
              "      <td>NaN</td>\n",
              "    </tr>\n",
              "  </tbody>\n",
              "</table>\n",
              "</div>"
            ],
            "text/plain": [
              "    Aidat  Banyo Sayısı Bina Yaşı  ... İlan no Cephe  Site İçerisinde\n",
              "113   NaN           NaN       NaN  ...     NaN    NaN             NaN\n",
              "237   NaN           NaN       NaN  ...     NaN    NaN             NaN\n",
              "\n",
              "[2 rows x 21 columns]"
            ]
          },
          "metadata": {
            "tags": []
          },
          "execution_count": 10
        }
      ]
    },
    {
      "cell_type": "code",
      "metadata": {
        "id": "TBb9OlAA8a8R"
      },
      "source": [
        "Tablo.drop([113,237],inplace=True)"
      ],
      "execution_count": null,
      "outputs": []
    },
    {
      "cell_type": "code",
      "metadata": {
        "colab": {
          "base_uri": "https://localhost:8080/"
        },
        "id": "IpbPvMEe9PHt",
        "outputId": "924d912d-2819-4537-c9a0-63d04957faa6"
      },
      "source": [
        "Tablo.isnull().sum()"
      ],
      "execution_count": null,
      "outputs": [
        {
          "output_type": "execute_result",
          "data": {
            "text/plain": [
              "Aidat                    104\n",
              "Banyo Sayısı               0\n",
              "Bina Yaşı                  0\n",
              "Brüt / Net M2              0\n",
              "Bulunduğu Kat             11\n",
              "Depozito                  70\n",
              "Eşya Durumu                0\n",
              "Fiyat                      0\n",
              "Isınma Tipi                0\n",
              "Kat Sayısı                 1\n",
              "Konut Şekli                0\n",
              "Kullanım Durumu           27\n",
              "Oda + Salon Sayısı         0\n",
              "Son Güncelleme Tarihi      0\n",
              "Yakıt Tipi                30\n",
              "Yapı Tipi                 49\n",
              "Yapının Durumu            53\n",
              "İlan Durumu                0\n",
              "İlan no                    0\n",
              "Cephe                     65\n",
              "Site İçerisinde          375\n",
              "dtype: int64"
            ]
          },
          "metadata": {
            "tags": []
          },
          "execution_count": 12
        }
      ]
    },
    {
      "cell_type": "code",
      "metadata": {
        "id": "76Jmw9Ro-hlU"
      },
      "source": [
        "Tablo['Aidat'].replace(' TL','',regex=True,inplace=True)\n",
        "Tablo['Aidat'].replace(',','',regex=True,inplace=True)\n",
        "Tablo['Aidat'].replace('USD','',regex=True,inplace=True)"
      ],
      "execution_count": null,
      "outputs": []
    },
    {
      "cell_type": "code",
      "metadata": {
        "colab": {
          "base_uri": "https://localhost:8080/"
        },
        "id": "H6AJO8eG-8OR",
        "outputId": "67774306-6827-4299-a046-57a6feb54212"
      },
      "source": [
        "Tablo['Bina Yaşı'].unique()"
      ],
      "execution_count": null,
      "outputs": [
        {
          "output_type": "execute_result",
          "data": {
            "text/plain": [
              "array(['12 Yaşında', '17 Yaşında', '35 Yaşında', 'Sıfır Bina',\n",
              "       '50 Yaşında', '45 Yaşında', '20 Yaşında', '21 Yaşında',\n",
              "       '10 Yaşında', '3 Yaşında', '2 Yaşında', '7 Yaşında', '5 Yaşında',\n",
              "       '15 Yaşında', '40 Yaşında', '25 Yaşında', '1 Yaşında',\n",
              "       '26 Yaşında', '30 Yaşında', '4 Yaşında', '22 Yaşında',\n",
              "       '33 Yaşında', '19 Yaşında', '23 Yaşında', '11 Yaşında',\n",
              "       '18 Yaşında', '9 Yaşında', '8 Yaşında', '28 Yaşında', '16 Yaşında',\n",
              "       '29 Yaşında', '27 Yaşında', '38 Yaşında', '13 Yaşında',\n",
              "       '31 Yaşında', '14 Yaşında', '32 Yaşında', '24 Yaşında',\n",
              "       '60 Yaşında', '39 Yaşında'], dtype=object)"
            ]
          },
          "metadata": {
            "tags": []
          },
          "execution_count": 15
        }
      ]
    },
    {
      "cell_type": "code",
      "metadata": {
        "id": "va-wH32bATZi"
      },
      "source": [
        "Tablo['Bina Yaşı']=Tablo['Bina Yaşı'].replace({'Yaşında':'','Sıfır Bina':0,' ':''},regex=True).astype('int64')"
      ],
      "execution_count": null,
      "outputs": []
    },
    {
      "cell_type": "code",
      "metadata": {
        "id": "I1Pk0eSbBmC7"
      },
      "source": [
        "# Binanı yaşı arttıkça fiyata etkisi ters olur ben de bu yüzden en yaşlı binadan çıkardım hepsini.\n",
        "\n",
        "Tablo['Bina Yaşı']=Tablo['Bina Yaşı'].max()-Tablo['Bina Yaşı']"
      ],
      "execution_count": null,
      "outputs": []
    },
    {
      "cell_type": "code",
      "metadata": {
        "colab": {
          "base_uri": "https://localhost:8080/"
        },
        "id": "G035qjG8Amx1",
        "outputId": "31edc99c-fd39-416a-ea1e-da2781ad6cf8"
      },
      "source": [
        "Tablo['Brüt / Net M2'].unique()"
      ],
      "execution_count": null,
      "outputs": [
        {
          "output_type": "execute_result",
          "data": {
            "text/plain": [
              "array(['130 m2', '135 m2', '125 m2', '100 m2', '70 m2', '90 m2', '170 m2',\n",
              "       '80 m2', '85 m2', '110 m2', '60 m2', '225 m2', '150 m2', '256 m2',\n",
              "       '75 m2', '220 m2', '140 m2', '120 m2', '210 m2', '65 m2', '109 m2',\n",
              "       '165 m2', '95 m2', '105 m2', '66 m2', '160 m2', '192 m2', '89 m2',\n",
              "       '115 m2', '118 m2', '116 m2', '182 m2', '92 m2', '84 m2', '190 m2',\n",
              "       '145 m2', '30 m2', '300 m2', '200 m2', '180 m2', '94 m2', '280 m2',\n",
              "       '204 m2', '79 m2', '62 m2', '177 m2', '55 m2', '139 m2', '430 m2',\n",
              "       '193 m2', '185 m2', '275 m2', '230 m2', '250 m2', '251 m2',\n",
              "       '540 m2', '81 m2', '45 m2', '119 m2', '198 m2', '151 m2', '500 m2',\n",
              "       '650 m2', '550 m2', '50 m2', '98 m2', '49 m2', '195 m2', '226 m2',\n",
              "       '155 m2', '215 m2', '152 m2', '164 m2', '111 m2', '144 m2',\n",
              "       '1,500 m2', '96 m2', '175 m2', '330 m2', '128 m2', '40 m2',\n",
              "       '44 m2', '25 m2'], dtype=object)"
            ]
          },
          "metadata": {
            "tags": []
          },
          "execution_count": 18
        }
      ]
    },
    {
      "cell_type": "code",
      "metadata": {
        "id": "gSlaB1lkBCNP"
      },
      "source": [
        "Tablo['Brüt / Net M2']=Tablo['Brüt / Net M2'].replace({'m2':'',',':''},regex=True).astype('int64')"
      ],
      "execution_count": null,
      "outputs": []
    },
    {
      "cell_type": "code",
      "metadata": {
        "colab": {
          "base_uri": "https://localhost:8080/"
        },
        "id": "V6Q-pi7tGvXo",
        "outputId": "306f7738-fe47-43e4-de89-d2e8f1c908f0"
      },
      "source": [
        "Tablo['Kat Sayısı'].unique()"
      ],
      "execution_count": null,
      "outputs": [
        {
          "output_type": "execute_result",
          "data": {
            "text/plain": [
              "array(['3 Katlı', '4 Katlı', '6 Katlı', '2 Katlı', '7 Katlı', '27 Katlı',\n",
              "       '32 Katlı', '30 Katlı', '5 Katlı', '16 Katlı', '34 Katlı',\n",
              "       '39 Katlı', '14 Katlı', '20 Katlı', '9 Katlı', '15 Katlı',\n",
              "       '12 Katlı', '13 Katlı', '10 Katlı', '17 Katlı', '25 Katlı',\n",
              "       '22 Katlı', '11 Katlı', '8 Katlı', '19 Katlı', '36 Katlı',\n",
              "       '33 Katlı', '21 Katlı', '18 Katlı', nan, '26 Katlı', '300 Katlı',\n",
              "       '1 Katlı'], dtype=object)"
            ]
          },
          "metadata": {
            "tags": []
          },
          "execution_count": 20
        }
      ]
    },
    {
      "cell_type": "code",
      "metadata": {
        "id": "V4U1YcDRGvSZ"
      },
      "source": [
        "Tablo['Kat Sayısı']=Tablo['Kat Sayısı'].replace('Katlı','',regex=True)"
      ],
      "execution_count": null,
      "outputs": []
    },
    {
      "cell_type": "code",
      "metadata": {
        "colab": {
          "base_uri": "https://localhost:8080/"
        },
        "id": "AP-Zkrz_Ft9J",
        "outputId": "96538e5e-48a6-444b-c576-a2020921adee"
      },
      "source": [
        "Tablo[Tablo['Bulunduğu Kat']=='Teras Katı']['Kat Sayısı']\n",
        "# bunlar 3 ve 4 katlı olduğu için bunları aşağıdaki gibi doldurdum"
      ],
      "execution_count": null,
      "outputs": [
        {
          "output_type": "execute_result",
          "data": {
            "text/plain": [
              "415    3 \n",
              "421    4 \n",
              "Name: Kat Sayısı, dtype: object"
            ]
          },
          "metadata": {
            "tags": []
          },
          "execution_count": 22
        }
      ]
    },
    {
      "cell_type": "code",
      "metadata": {
        "colab": {
          "base_uri": "https://localhost:8080/"
        },
        "id": "AyOA6HbMBI_e",
        "outputId": "7453656a-a4c8-4143-9205-1c1fc5d9cb3f"
      },
      "source": [
        "Tablo['Bulunduğu Kat'].unique()\n",
        " # kot zemin katta yer alan dairenin altındaki daireye verilen isimdir\n",
        " # kot1:-1\n",
        " # kot2:-2\n",
        " # kot3:-3\n",
        " # Yüksek Giriş: giris katı :0 \n",
        " # Bahçe katı: 0\n",
        " # Villa Katı:1\n",
        " # Teras katı: en üksek katmıs"
      ],
      "execution_count": null,
      "outputs": [
        {
          "output_type": "execute_result",
          "data": {
            "text/plain": [
              "array(['3. Kat', '5. Kat', 'Yüksek Giriş', '1. Kat', 'Kot 1', '2. Kat',\n",
              "       'Giriş Katı', '15. Kat', 'Ara Kat', '21 ve üzeri', '7. Kat',\n",
              "       'Kot 2', '12. Kat', '8. Kat', '4. Kat', 'Bahçe Katı', '10. Kat',\n",
              "       '6. Kat', '9. Kat', nan, '11. Kat', '13. Kat', 'Zemin',\n",
              "       'En Üst Kat', 'Kot 3', '17. Kat', 'Villa Katı', '14. Kat',\n",
              "       'Teras Katı'], dtype=object)"
            ]
          },
          "metadata": {
            "tags": []
          },
          "execution_count": 23
        }
      ]
    },
    {
      "cell_type": "code",
      "metadata": {
        "id": "8JHLwECjBY0j"
      },
      "source": [
        "Tablo['Bulunduğu Kat'].replace({'Yüksek Giriş':0,'Kot 1':-1,'Giriş Katı':0,'Ara Kat':3,'ve üzeri':'','Kot 2':-2,'Bahçe Katı':0,'Zemin':0,'Kot 3':-3,'Villa Katı':1},regex=True,inplace=True)\n",
        "Tablo['Bulunduğu Kat'].replace({'En Üst Kat':4,'Teras Katı':4},regex=True,inplace=True)\n",
        "Tablo['Bulunduğu Kat'].replace('. Kat','',regex=True,inplace=True)"
      ],
      "execution_count": null,
      "outputs": []
    },
    {
      "cell_type": "code",
      "metadata": {
        "colab": {
          "base_uri": "https://localhost:8080/",
          "height": 120
        },
        "id": "RCoqsgWBJl8T",
        "outputId": "47d7e908-4217-452b-df85-a7d29f2367a7"
      },
      "source": [
        "Tablo[Tablo['Bulunduğu Kat'].notnull()>Tablo['Kat Sayısı'].notnull()]"
      ],
      "execution_count": null,
      "outputs": [
        {
          "output_type": "execute_result",
          "data": {
            "text/html": [
              "<div>\n",
              "<style scoped>\n",
              "    .dataframe tbody tr th:only-of-type {\n",
              "        vertical-align: middle;\n",
              "    }\n",
              "\n",
              "    .dataframe tbody tr th {\n",
              "        vertical-align: top;\n",
              "    }\n",
              "\n",
              "    .dataframe thead th {\n",
              "        text-align: right;\n",
              "    }\n",
              "</style>\n",
              "<table border=\"1\" class=\"dataframe\">\n",
              "  <thead>\n",
              "    <tr style=\"text-align: right;\">\n",
              "      <th></th>\n",
              "      <th>Aidat</th>\n",
              "      <th>Banyo Sayısı</th>\n",
              "      <th>Bina Yaşı</th>\n",
              "      <th>Brüt / Net M2</th>\n",
              "      <th>Bulunduğu Kat</th>\n",
              "      <th>Depozito</th>\n",
              "      <th>Eşya Durumu</th>\n",
              "      <th>Fiyat</th>\n",
              "      <th>Isınma Tipi</th>\n",
              "      <th>Kat Sayısı</th>\n",
              "      <th>Konut Şekli</th>\n",
              "      <th>Kullanım Durumu</th>\n",
              "      <th>Oda + Salon Sayısı</th>\n",
              "      <th>Son Güncelleme Tarihi</th>\n",
              "      <th>Yakıt Tipi</th>\n",
              "      <th>Yapı Tipi</th>\n",
              "      <th>Yapının Durumu</th>\n",
              "      <th>İlan Durumu</th>\n",
              "      <th>İlan no</th>\n",
              "      <th>Cephe</th>\n",
              "      <th>Site İçerisinde</th>\n",
              "    </tr>\n",
              "  </thead>\n",
              "  <tbody>\n",
              "  </tbody>\n",
              "</table>\n",
              "</div>"
            ],
            "text/plain": [
              "Empty DataFrame\n",
              "Columns: [Aidat, Banyo Sayısı, Bina Yaşı, Brüt / Net M2, Bulunduğu Kat, Depozito, Eşya Durumu, Fiyat, Isınma Tipi, Kat Sayısı, Konut Şekli, Kullanım Durumu, Oda + Salon Sayısı, Son Güncelleme Tarihi, Yakıt Tipi, Yapı Tipi, Yapının Durumu, İlan Durumu, İlan no, Cephe , Site İçerisinde]\n",
              "Index: []"
            ]
          },
          "metadata": {
            "tags": []
          },
          "execution_count": 25
        }
      ]
    },
    {
      "cell_type": "code",
      "metadata": {
        "colab": {
          "base_uri": "https://localhost:8080/"
        },
        "id": "Da_DEg-oFbzG",
        "outputId": "f6190df2-7cab-403f-a67d-d703d266b50f"
      },
      "source": [
        "Tablo['Bulunduğu Kat'].unique()"
      ],
      "execution_count": null,
      "outputs": [
        {
          "output_type": "execute_result",
          "data": {
            "text/plain": [
              "array(['3', '5', 0, '1', -1, '2', '15', 3, '21 ', '7', -2, '12', '8', '4',\n",
              "       '10', '6', '9', nan, '11', '13', 4, -3, '17', 1, '14'],\n",
              "      dtype=object)"
            ]
          },
          "metadata": {
            "tags": []
          },
          "execution_count": 26
        }
      ]
    },
    {
      "cell_type": "code",
      "metadata": {
        "colab": {
          "base_uri": "https://localhost:8080/"
        },
        "id": "jRjnWXVlICwB",
        "outputId": "c1e71c1d-5b98-47a6-e584-af5e03ac6c7a"
      },
      "source": [
        "Tablo['Eşya Durumu'].unique()"
      ],
      "execution_count": null,
      "outputs": [
        {
          "output_type": "execute_result",
          "data": {
            "text/plain": [
              "array(['Eşyalı Değil', 'Eşyalı'], dtype=object)"
            ]
          },
          "metadata": {
            "tags": []
          },
          "execution_count": 27
        }
      ]
    },
    {
      "cell_type": "code",
      "metadata": {
        "id": "PUIsJD4fILNO"
      },
      "source": [
        "Tablo['Eşya Durumu'].replace({'Eşyalı Değil':0,'Eşyalı':1},regex=True,inplace=True)"
      ],
      "execution_count": null,
      "outputs": []
    },
    {
      "cell_type": "code",
      "metadata": {
        "colab": {
          "base_uri": "https://localhost:8080/"
        },
        "id": "8y1r1UasIZGq",
        "outputId": "836c5f0b-a85d-4f47-e43a-4023a076e503"
      },
      "source": [
        "Tablo['Fiyat']"
      ],
      "execution_count": null,
      "outputs": [
        {
          "output_type": "execute_result",
          "data": {
            "text/plain": [
              "0      \\n1,500 TL\\n\n",
              "1      \\n1,500 TL\\n\n",
              "2      \\n1,200 TL\\n\n",
              "3      \\n1,000 TL\\n\n",
              "4      \\n2,600 TL\\n\n",
              "           ...     \n",
              "509    \\n1,600 TL\\n\n",
              "510    \\n2,000 TL\\n\n",
              "511    \\n1,200 TL\\n\n",
              "512      \\n700 TL\\n\n",
              "513    \\n1,850 TL\\n\n",
              "Name: Fiyat, Length: 512, dtype: object"
            ]
          },
          "metadata": {
            "tags": []
          },
          "execution_count": 29
        }
      ]
    },
    {
      "cell_type": "code",
      "metadata": {
        "id": "Url52Ya9IhtY"
      },
      "source": [
        "Tablo['Fiyat']=Tablo['Fiyat'].replace({'\\n':'',',':'','TL':''},regex=True).astype('int64')"
      ],
      "execution_count": null,
      "outputs": []
    },
    {
      "cell_type": "code",
      "metadata": {
        "colab": {
          "base_uri": "https://localhost:8080/"
        },
        "id": "HDgj-Ol7I5wN",
        "outputId": "9a2f5c27-ae22-4f2c-8615-06ce6d58ba95"
      },
      "source": [
        "Tablo['Isınma Tipi'].unique()"
      ],
      "execution_count": null,
      "outputs": [
        {
          "output_type": "execute_result",
          "data": {
            "text/plain": [
              "array(['Kombi', 'Merkezi', 'Merkezi (Pay Ölçer)', 'Soba', 'Belirtilmemiş',\n",
              "       'Kat Kaloriferi'], dtype=object)"
            ]
          },
          "metadata": {
            "tags": []
          },
          "execution_count": 31
        }
      ]
    },
    {
      "cell_type": "code",
      "metadata": {
        "id": "PxmfxH_hKb9u"
      },
      "source": [
        "Tablo['Isınma Tipi'].replace({'Kombi':6,'Merkezi (Pay Ölçer)':5,'Merkezi':4,'Kat Kaloriferi':3,'Soba':2,'Belirtilmemiş':0},regex=True,inplace=True)"
      ],
      "execution_count": null,
      "outputs": []
    },
    {
      "cell_type": "code",
      "metadata": {
        "colab": {
          "base_uri": "https://localhost:8080/"
        },
        "id": "Ydxo7H0LNb0b",
        "outputId": "e7e50713-3dfa-42f9-86f4-11677fe7c442"
      },
      "source": [
        "Tablo['Konut Şekli'].unique()"
      ],
      "execution_count": null,
      "outputs": [
        {
          "output_type": "execute_result",
          "data": {
            "text/plain": [
              "array(['Daire', 'Residence', 'Müstakil Ev', 'Bina', 'Villa'], dtype=object)"
            ]
          },
          "metadata": {
            "tags": []
          },
          "execution_count": 33
        }
      ]
    },
    {
      "cell_type": "code",
      "metadata": {
        "id": "oc3Z5BKtNeWA"
      },
      "source": [
        "Tablo['Konut Şekli']=Tablo['Konut Şekli'].replace({'Villa':5,'Residence':4,'Müstakil Ev':3,'Bina':2,'Daire':1},regex=True).astype('int64')"
      ],
      "execution_count": null,
      "outputs": []
    },
    {
      "cell_type": "code",
      "metadata": {
        "colab": {
          "base_uri": "https://localhost:8080/"
        },
        "id": "FTD1WxM-OXv0",
        "outputId": "27437bd9-aabe-4381-b409-5d974fdf9d57"
      },
      "source": [
        "Tablo['Kullanım Durumu'].unique()"
      ],
      "execution_count": null,
      "outputs": [
        {
          "output_type": "execute_result",
          "data": {
            "text/plain": [
              "array(['Boş', 'Kiracı Oturuyor', 'Ev Sahibi Oturuyor', nan,\n",
              "       'Belirtilmemiş'], dtype=object)"
            ]
          },
          "metadata": {
            "tags": []
          },
          "execution_count": 35
        }
      ]
    },
    {
      "cell_type": "code",
      "metadata": {
        "id": "_XE2JfBBPVIN"
      },
      "source": [
        "Tablo['Kullanım Durumu'].fillna(0,inplace=True)"
      ],
      "execution_count": null,
      "outputs": []
    },
    {
      "cell_type": "code",
      "metadata": {
        "id": "8UQAyYm1Ofdh"
      },
      "source": [
        "Tablo['Kullanım Durumu']=Tablo['Kullanım Durumu'].replace({'Boş':4,'Kiracı Oturuyor':3,'Ev Sahibi Oturuyor':2,'Belirtilmemiş':1},regex=True).astype('int64')"
      ],
      "execution_count": null,
      "outputs": []
    },
    {
      "cell_type": "code",
      "metadata": {
        "colab": {
          "base_uri": "https://localhost:8080/"
        },
        "id": "P0FgcZ2iPSB3",
        "outputId": "af6f7f82-3d28-4647-9316-f1c9b9ba97e4"
      },
      "source": [
        "Tablo['Oda + Salon Sayısı'].unique()"
      ],
      "execution_count": null,
      "outputs": [
        {
          "output_type": "execute_result",
          "data": {
            "text/plain": [
              "array(['3 + 1', '2 + 1', '1 + 1', '2 + 120', '4 + 1', '4 + 2', '5 + 1',\n",
              "       '1 + 0', '5 + 2', '6 + 1', '7 + 2', '5 + 3', '20 + 4'],\n",
              "      dtype=object)"
            ]
          },
          "metadata": {
            "tags": []
          },
          "execution_count": 38
        }
      ]
    },
    {
      "cell_type": "code",
      "metadata": {
        "colab": {
          "base_uri": "https://localhost:8080/"
        },
        "id": "JJQVHAfJPouG",
        "outputId": "6c02486f-0d03-43c4-b7e5-8354a87851a2"
      },
      "source": [
        "Tablo['Oda + Salon Sayısı'].replace({'[^0-9]+':''},regex=True,inplace=True)\n",
        "Tablo['Oda + Salon Sayısı'].unique()"
      ],
      "execution_count": null,
      "outputs": [
        {
          "output_type": "execute_result",
          "data": {
            "text/plain": [
              "array(['31', '21', '11', '2120', '41', '42', '51', '10', '52', '61', '72',\n",
              "       '53', '204'], dtype=object)"
            ]
          },
          "metadata": {
            "tags": []
          },
          "execution_count": 39
        }
      ]
    },
    {
      "cell_type": "code",
      "metadata": {
        "colab": {
          "base_uri": "https://localhost:8080/"
        },
        "id": "BI3LRkvTQIrN",
        "outputId": "7d47e7d4-c9f2-4af4-c6fe-504f3fc48c1c"
      },
      "source": [
        "Tablo['Oda + Salon Sayısı'].replace({'31':4,'21':3,'11':2,'2120':14,'41':5,'42':6,'51':6,'10':1,'52':7,'53':8,'204':24,'61':7,'72':9},regex=True,inplace=True)\n",
        "Tablo['Oda + Salon Sayısı'].unique()"
      ],
      "execution_count": null,
      "outputs": [
        {
          "output_type": "execute_result",
          "data": {
            "text/plain": [
              "array([ 4,  3,  2,  5,  6,  1,  7,  9,  8, 24])"
            ]
          },
          "metadata": {
            "tags": []
          },
          "execution_count": 40
        }
      ]
    },
    {
      "cell_type": "code",
      "metadata": {
        "colab": {
          "base_uri": "https://localhost:8080/"
        },
        "id": "6Tz91qUbRpjV",
        "outputId": "79e1c427-2c57-4128-d367-91b7fb05a890"
      },
      "source": [
        "Tablo['Son Güncelleme Tarihi'].unique()"
      ],
      "execution_count": null,
      "outputs": [
        {
          "output_type": "execute_result",
          "data": {
            "text/plain": [
              "array(['3 Gün Önce', '12 Gün Önce', 'Bugün', '2 Gün Önce', '70 Gün Önce',\n",
              "       '11 Gün Önce', '139 Gün Önce', '22 Gün Önce', '45 Gün Önce',\n",
              "       '103 Gün Önce', '4 Gün Önce', '157 Gün Önce', '7 Gün Önce',\n",
              "       '21 Gün Önce', '131 Gün Önce', '6 Gün Önce', '25 Gün Önce',\n",
              "       '5 Gün Önce', '8 Gün Önce', 'Dün'], dtype=object)"
            ]
          },
          "metadata": {
            "tags": []
          },
          "execution_count": 41
        }
      ]
    },
    {
      "cell_type": "code",
      "metadata": {
        "id": "PKFmFs-FR7Q0"
      },
      "source": [
        "Tablo['Son Güncelleme Tarihi']=Tablo['Son Güncelleme Tarihi'].replace({'Gün Önce':'','Dün':1,'Bugün':0},regex=True).astype('int64')"
      ],
      "execution_count": null,
      "outputs": []
    },
    {
      "cell_type": "code",
      "metadata": {
        "colab": {
          "base_uri": "https://localhost:8080/"
        },
        "id": "kGlc6hhKSWp0",
        "outputId": "ab4e113f-7904-4c34-a7f3-852550f9e3a0"
      },
      "source": [
        "Tablo['Yakıt Tipi'].fillna('Doğalgaz',inplace=True)\n",
        "Tablo['Yakıt Tipi'].unique()"
      ],
      "execution_count": null,
      "outputs": [
        {
          "output_type": "execute_result",
          "data": {
            "text/plain": [
              "array(['Doğalgaz', 'Kömür-Odun', 'Elektrik'], dtype=object)"
            ]
          },
          "metadata": {
            "tags": []
          },
          "execution_count": 43
        }
      ]
    },
    {
      "cell_type": "code",
      "metadata": {
        "id": "PQ3dlYugTjR_"
      },
      "source": [
        "Tablo['Yakıt Tipi'].replace({'Doğalgaz':2,'Elektrik':1},regex=True,inplace=True)"
      ],
      "execution_count": null,
      "outputs": []
    },
    {
      "cell_type": "code",
      "metadata": {
        "id": "AjbvQ-HGT-6X"
      },
      "source": [
        "Tablo.drop(['İlan no','Yapı Tipi'],axis=1,inplace=True)"
      ],
      "execution_count": null,
      "outputs": []
    },
    {
      "cell_type": "code",
      "metadata": {
        "colab": {
          "base_uri": "https://localhost:8080/"
        },
        "id": "fB7NFwjCUeXb",
        "outputId": "f7639222-ed86-4270-f158-72a759a4be1e"
      },
      "source": [
        "Tablo['Yapının Durumu'].unique()"
      ],
      "execution_count": null,
      "outputs": [
        {
          "output_type": "execute_result",
          "data": {
            "text/plain": [
              "array(['İkinci El', 'Sıfır', nan], dtype=object)"
            ]
          },
          "metadata": {
            "tags": []
          },
          "execution_count": 46
        }
      ]
    },
    {
      "cell_type": "code",
      "metadata": {
        "colab": {
          "base_uri": "https://localhost:8080/"
        },
        "id": "Mi2N5Qz1V_ao",
        "outputId": "a7c2d649-b48e-4821-c497-3b4b43a2681e"
      },
      "source": [
        "Tablo['Yapının Durumu'].value_counts()"
      ],
      "execution_count": null,
      "outputs": [
        {
          "output_type": "execute_result",
          "data": {
            "text/plain": [
              "İkinci El    416\n",
              "Sıfır         43\n",
              "Name: Yapının Durumu, dtype: int64"
            ]
          },
          "metadata": {
            "tags": []
          },
          "execution_count": 47
        }
      ]
    },
    {
      "cell_type": "code",
      "metadata": {
        "colab": {
          "base_uri": "https://localhost:8080/"
        },
        "id": "FjoBV0yRWGIq",
        "outputId": "7f9dd3d8-7946-4166-c3c4-8b10662291d6"
      },
      "source": [
        "Tablo['Yapının Durumu'].fillna('İkinci El',limit=49,inplace=True)\n",
        "Tablo['Yapının Durumu'].fillna('Sıfır',limit=4,inplace=True)\n",
        "Tablo['Yapının Durumu'].isnull().sum()"
      ],
      "execution_count": null,
      "outputs": [
        {
          "output_type": "execute_result",
          "data": {
            "text/plain": [
              "0"
            ]
          },
          "metadata": {
            "tags": []
          },
          "execution_count": 48
        }
      ]
    },
    {
      "cell_type": "code",
      "metadata": {
        "id": "-5k0N29dWJ4U"
      },
      "source": [
        "Tablo['Yapının Durumu']=Tablo['Yapının Durumu'].replace({'İkinci El':0,'Sıfır':1},regex=True).astype('int64')"
      ],
      "execution_count": null,
      "outputs": []
    },
    {
      "cell_type": "code",
      "metadata": {
        "colab": {
          "base_uri": "https://localhost:8080/"
        },
        "id": "Kvjd6kOVW3-z",
        "outputId": "fc0774ef-943c-4a33-e9b1-15d34ce5d57f"
      },
      "source": [
        "Tablo['Cephe '].unique()"
      ],
      "execution_count": null,
      "outputs": [
        {
          "output_type": "execute_result",
          "data": {
            "text/plain": [
              "array([nan, 'Kuzey, ', 'Güney, ', 'Batı', 'Güney', 'Doğu', 'Doğu, ',\n",
              "       'Kuzey'], dtype=object)"
            ]
          },
          "metadata": {
            "tags": []
          },
          "execution_count": 50
        }
      ]
    },
    {
      "cell_type": "code",
      "metadata": {
        "colab": {
          "base_uri": "https://localhost:8080/"
        },
        "id": "v35HZ5XjW5Wt",
        "outputId": "493a7388-6b49-4690-c7d1-c7494e320d7a"
      },
      "source": [
        "Tablo['Cephe '].isnull().sum()"
      ],
      "execution_count": null,
      "outputs": [
        {
          "output_type": "execute_result",
          "data": {
            "text/plain": [
              "65"
            ]
          },
          "metadata": {
            "tags": []
          },
          "execution_count": 51
        }
      ]
    },
    {
      "cell_type": "code",
      "metadata": {
        "colab": {
          "base_uri": "https://localhost:8080/"
        },
        "id": "jh06hJnoYCKW",
        "outputId": "74229c25-6f9e-4aa4-e75e-273e69015af9"
      },
      "source": [
        "Tablo['Cephe '].value_counts()"
      ],
      "execution_count": null,
      "outputs": [
        {
          "output_type": "execute_result",
          "data": {
            "text/plain": [
              "Güney,     191\n",
              "Kuzey,     114\n",
              "Batı        41\n",
              "Güney       40\n",
              "Doğu        34\n",
              "Doğu,       21\n",
              "Kuzey        6\n",
              "Name: Cephe , dtype: int64"
            ]
          },
          "metadata": {
            "tags": []
          },
          "execution_count": 52
        }
      ]
    },
    {
      "cell_type": "code",
      "metadata": {
        "id": "c-HwhvcuYHVc"
      },
      "source": [
        "Tablo['Cephe '].fillna('Güney,',limit=30,inplace=True)\n",
        "Tablo['Cephe '].fillna('Kuzey,',limit=20,inplace=True)\n",
        "Tablo['Cephe '].fillna('Batı',limit=5,inplace=True)\n",
        "Tablo['Cephe '].fillna('Doğu',limit=10,inplace=True)"
      ],
      "execution_count": null,
      "outputs": []
    },
    {
      "cell_type": "code",
      "metadata": {
        "id": "shzGjP3QZcQb"
      },
      "source": [
        "Tablo['Cephe '].replace({'Güney':4,'Güney,':4,'Doğu':3,'Doğu,':3,'Batı':2,'Kuzey':1,'Kuzey,':1},regex=True,inplace=True)"
      ],
      "execution_count": null,
      "outputs": []
    },
    {
      "cell_type": "code",
      "metadata": {
        "colab": {
          "base_uri": "https://localhost:8080/"
        },
        "id": "TAFDg4NtZ_DZ",
        "outputId": "8fd19501-d700-4219-c560-85dbd76ad9eb"
      },
      "source": [
        "Tablo['Site İçerisinde'].unique()"
      ],
      "execution_count": null,
      "outputs": [
        {
          "output_type": "execute_result",
          "data": {
            "text/plain": [
              "array([nan, 'PARK LİMA', 'HAYALPARK EVLERİ', 'DURU BEYTEPE',\n",
              "       'BAŞKENT EMLAK KONUTLARI', 'İNCEK VİSTA', 'SİNPAŞ MARİNA TOWER',\n",
              "       'ALTINORAN', 'BAŞKENT EMLAKKONUT', 'Evet (Site Adı Belirtilmemiş)',\n",
              "       'PARK LOPELYA SİTESİ', 'AP ISTGATE', 'BAŞKENT EMLAK KONUTLARI ',\n",
              "       'Soyak Blokları', 'MİLENYUM SİTESİ', 'Zirvekent', 'oral82',\n",
              "       '3.Etap', 'HİTTOWN', 'Hayatsebla Evleri', 'SUTEK SİTESİ',\n",
              "       'safran residence', 'Duru Beytepe', 'Şenyuva ( Tusso ) Bl',\n",
              "       'Kuzu Kumru Residence', 'mesa', 'işçi blokları',\n",
              "       'Tusso (Şenyuva) Blok', 'KENT SİTESİ', 'EGE FLORA',\n",
              "       'Ankara Çankaya Sitesi', '2.Etap', 'park oran ',\n",
              "       'RÖNESANS NEVA KONAKLARI', 'PARK ORAN KONUTLARI', 'Aktürk Sitesi',\n",
              "       'sinpaş marina', 'MARİNA ANKARA', 'FIRAT LİFE', 'SİNPAŞ ALTINORAN',\n",
              "       'MESA 66', 'ÖYKÜM SİTESİ', 'paşa evleri', 'BULVAR LOFT',\n",
              "       'Küçük Evlerimiz villa', '312 ULUSOY CITY', 'ÖZKOÇ',\n",
              "       'ETLİK EMLAK BANKASI ', 'Gökkuşağı', 'KAYIKENT SİTESİ',\n",
              "       'YAMAÇEVLER', 'Camlı Klima Blokları', 'YAMAÇEVLER SİTESİ',\n",
              "       'relax yaşamkent', 'ESTON BLOKLARI', 'KELEBEK SİTESİ',\n",
              "       'SARIKENT 1', 'İNCEK TOKİ 2.ETAP', 'FUNDA BEYAZEVLER SİTESİ',\n",
              "       'Evet (Site Adı Belir', 'MESA KOZA SİTESİ ', 'ÖZCAN EMLAK',\n",
              "       'MESA ÇAMYOLU', 'ILGAZLAR ', 'Haznedaroğlu Blokları', 'üçgenevler',\n",
              "       'KUR', 'DİGER', 'KUR SİTESİ ', 'Oyak Göksupark', 'YAKUT PARK',\n",
              "       'KIRLANGIÇ EVLERİ', 'Mesa Akasya', 'CRYSTAL TOWERS',\n",
              "       'DENİZ PARK SİTESİ', 'YEŞİL VADİ ', 'YENİAY SİTESİ ',\n",
              "       '1071 çukurambar', '-', 'Mesa Koza Plaza', 'SİNPAŞ MARİNA',\n",
              "       'SİNPAŞ MARİNA ANKARA', 'EMEKLİ SUBAY EVLERİ', 'YOL-İŞ SİTESİ',\n",
              "       'Başkent Emlak Konutları', 'KEYVANPLATİNEVLER',\n",
              "       'EMLAK BANK KONUTLARI', 'SPOR SİTESİNDE', 'PARKORAN',\n",
              "       'Yapracık TOKİ 2. Bölge', 'murat sitesi',\n",
              "       'ATAKENT 2 CUMHURİYET SİTESİ', 'saraycık toki'], dtype=object)"
            ]
          },
          "metadata": {
            "tags": []
          },
          "execution_count": 55
        }
      ]
    },
    {
      "cell_type": "code",
      "metadata": {
        "id": "pXIKsT9WaIpP"
      },
      "source": [
        "Tablo['Site İçerisinde'].fillna(0,inplace=True)"
      ],
      "execution_count": null,
      "outputs": []
    },
    {
      "cell_type": "code",
      "metadata": {
        "id": "idPIRMytdJuk"
      },
      "source": [
        "indexs=list(Tablo[Tablo['Site İçerisinde']!=0]['Site İçerisinde'].index)"
      ],
      "execution_count": null,
      "outputs": []
    },
    {
      "cell_type": "code",
      "metadata": {
        "colab": {
          "base_uri": "https://localhost:8080/"
        },
        "id": "4oRol0_OamaC",
        "outputId": "78648515-a518-4dbd-9bbc-4afd73c8d71e"
      },
      "source": [
        "Tablo['Site İçerisinde'].loc[indexs]=1"
      ],
      "execution_count": null,
      "outputs": [
        {
          "output_type": "stream",
          "text": [
            "/usr/local/lib/python3.7/dist-packages/pandas/core/indexing.py:670: SettingWithCopyWarning: \n",
            "A value is trying to be set on a copy of a slice from a DataFrame\n",
            "\n",
            "See the caveats in the documentation: https://pandas.pydata.org/pandas-docs/stable/user_guide/indexing.html#returning-a-view-versus-a-copy\n",
            "  iloc._setitem_with_indexer(indexer, value)\n"
          ],
          "name": "stderr"
        }
      ]
    },
    {
      "cell_type": "code",
      "metadata": {
        "colab": {
          "base_uri": "https://localhost:8080/"
        },
        "id": "7-pW5V4Fb6ME",
        "outputId": "5a66d36c-c5cf-49d6-85a1-9223b11a0b1e"
      },
      "source": [
        "Tablo['Site İçerisinde'].unique()"
      ],
      "execution_count": null,
      "outputs": [
        {
          "output_type": "execute_result",
          "data": {
            "text/plain": [
              "array([0, 1], dtype=object)"
            ]
          },
          "metadata": {
            "tags": []
          },
          "execution_count": 59
        }
      ]
    },
    {
      "cell_type": "markdown",
      "metadata": {
        "id": "Xw3i8BAZTH5G"
      },
      "source": [
        "site içindeyse 1 \n",
        "site içinde değilse 0"
      ]
    },
    {
      "cell_type": "code",
      "metadata": {
        "colab": {
          "base_uri": "https://localhost:8080/"
        },
        "id": "-xkXryFncYI3",
        "outputId": "0d86b0d9-7e12-4944-ee07-a242464ebff1"
      },
      "source": [
        "Tablo.info()"
      ],
      "execution_count": null,
      "outputs": [
        {
          "output_type": "stream",
          "text": [
            "<class 'pandas.core.frame.DataFrame'>\n",
            "Int64Index: 512 entries, 0 to 513\n",
            "Data columns (total 19 columns):\n",
            " #   Column                 Non-Null Count  Dtype  \n",
            "---  ------                 --------------  -----  \n",
            " 0   Aidat                  408 non-null    object \n",
            " 1   Banyo Sayısı           512 non-null    float64\n",
            " 2   Bina Yaşı              512 non-null    int64  \n",
            " 3   Brüt / Net M2          512 non-null    int64  \n",
            " 4   Bulunduğu Kat          501 non-null    object \n",
            " 5   Depozito               442 non-null    object \n",
            " 6   Eşya Durumu            512 non-null    int64  \n",
            " 7   Fiyat                  512 non-null    int64  \n",
            " 8   Isınma Tipi            512 non-null    int64  \n",
            " 9   Kat Sayısı             511 non-null    object \n",
            " 10  Konut Şekli            512 non-null    int64  \n",
            " 11  Kullanım Durumu        512 non-null    int64  \n",
            " 12  Oda + Salon Sayısı     512 non-null    int64  \n",
            " 13  Son Güncelleme Tarihi  512 non-null    int64  \n",
            " 14  Yakıt Tipi             512 non-null    object \n",
            " 15  Yapının Durumu         512 non-null    int64  \n",
            " 16  İlan Durumu            512 non-null    object \n",
            " 17  Cephe                  512 non-null    int64  \n",
            " 18  Site İçerisinde        512 non-null    object \n",
            "dtypes: float64(1), int64(11), object(7)\n",
            "memory usage: 100.0+ KB\n"
          ],
          "name": "stdout"
        }
      ]
    },
    {
      "cell_type": "code",
      "metadata": {
        "id": "cqtGEADqiB1l"
      },
      "source": [
        "indx=list(Tablo[Tablo['Aidat'].notnull()]['Aidat'].astype('int64').index)"
      ],
      "execution_count": null,
      "outputs": []
    },
    {
      "cell_type": "code",
      "metadata": {
        "colab": {
          "base_uri": "https://localhost:8080/"
        },
        "id": "atBbY-qDj3h8",
        "outputId": "b9140893-3a3d-46b7-a499-b810b700253e"
      },
      "source": [
        "Tablo['Aidat'][indx].astype('int64').mean()"
      ],
      "execution_count": null,
      "outputs": [
        {
          "output_type": "execute_result",
          "data": {
            "text/plain": [
              "279.58088235294116"
            ]
          },
          "metadata": {
            "tags": []
          },
          "execution_count": 62
        }
      ]
    },
    {
      "cell_type": "code",
      "metadata": {
        "colab": {
          "base_uri": "https://localhost:8080/"
        },
        "id": "QOPBVjp1k2M2",
        "outputId": "3902fe82-0a88-45c6-e810-889c1add4965"
      },
      "source": [
        "Tablo['Aidat'][indx].astype('int64').median()"
      ],
      "execution_count": null,
      "outputs": [
        {
          "output_type": "execute_result",
          "data": {
            "text/plain": [
              "100.0"
            ]
          },
          "metadata": {
            "tags": []
          },
          "execution_count": 63
        }
      ]
    },
    {
      "cell_type": "code",
      "metadata": {
        "id": "NG60LsEVllWU"
      },
      "source": [
        "Q1=Tablo['Aidat'][indx].astype('int64').quantile(0.25)\n",
        "Q3=Tablo['Aidat'][indx].astype('int64').quantile(0.75)\n",
        "IQR=Q3-Q1\n",
        "alt_sinir=Q1-1.5*IQR\n",
        "ust_sinir=Q3+1.5*IQR"
      ],
      "execution_count": null,
      "outputs": []
    },
    {
      "cell_type": "code",
      "metadata": {
        "id": "YHpE_aEnmJhy",
        "colab": {
          "base_uri": "https://localhost:8080/"
        },
        "outputId": "da817acf-4c0c-4c68-d3c3-42b119fb8429"
      },
      "source": [
        "aykiri=list(Tablo['Aidat'][indx].astype('int64')[Tablo['Aidat'][indx].astype('int64')>ust_sinir].index)\n",
        "Tablo['Aidat'][aykiri]=ust_sinir\n",
        "Tablo['Aidat'].fillna(Tablo['Aidat'][indx].astype('int64').mean(),inplace=True)"
      ],
      "execution_count": null,
      "outputs": [
        {
          "output_type": "stream",
          "text": [
            "/usr/local/lib/python3.7/dist-packages/ipykernel_launcher.py:2: SettingWithCopyWarning: \n",
            "A value is trying to be set on a copy of a slice from a DataFrame\n",
            "\n",
            "See the caveats in the documentation: https://pandas.pydata.org/pandas-docs/stable/user_guide/indexing.html#returning-a-view-versus-a-copy\n",
            "  \n"
          ],
          "name": "stderr"
        }
      ]
    },
    {
      "cell_type": "code",
      "metadata": {
        "id": "v0p9UHDIp0BK"
      },
      "source": [
        "Tablo['Depozito'].replace(' TL','',regex=True,inplace=True)\n",
        "Tablo['Depozito'].replace(',','',regex=True,inplace=True)\n",
        "Tablo['Depozito'].replace('EUR','',regex=True,inplace=True)\n",
        "Tablo['Depozito'].replace('USD','',regex=True,inplace=True)"
      ],
      "execution_count": null,
      "outputs": []
    },
    {
      "cell_type": "code",
      "metadata": {
        "id": "N4G9fdCrqjZm"
      },
      "source": [
        "Tablo['Depozito'].fillna(Tablo[Tablo['Depozito'].notnull()]['Depozito'].astype('int64').median(),inplace=True)\n"
      ],
      "execution_count": null,
      "outputs": []
    },
    {
      "cell_type": "code",
      "metadata": {
        "id": "1PwJY6M4sJDs"
      },
      "source": [
        "Tablo['Bulunduğu Kat'].fillna(Tablo[Tablo['Bulunduğu Kat'].notnull()]['Bulunduğu Kat'].astype('int64').median(),inplace=True)"
      ],
      "execution_count": null,
      "outputs": []
    },
    {
      "cell_type": "code",
      "metadata": {
        "id": "g9D_LVXRsUzB"
      },
      "source": [
        "Tablo['Kat Sayısı'].fillna(Tablo[Tablo['Kat Sayısı'].notnull()]['Kat Sayısı'].astype('int64').median(),inplace=True)"
      ],
      "execution_count": null,
      "outputs": []
    },
    {
      "cell_type": "code",
      "metadata": {
        "colab": {
          "base_uri": "https://localhost:8080/",
          "height": 490
        },
        "id": "EmtbTlhStRi3",
        "outputId": "ba5ed60f-0228-4f80-8ebe-b0bb4ab61951"
      },
      "source": [
        "Tablo"
      ],
      "execution_count": null,
      "outputs": [
        {
          "output_type": "execute_result",
          "data": {
            "text/html": [
              "<div>\n",
              "<style scoped>\n",
              "    .dataframe tbody tr th:only-of-type {\n",
              "        vertical-align: middle;\n",
              "    }\n",
              "\n",
              "    .dataframe tbody tr th {\n",
              "        vertical-align: top;\n",
              "    }\n",
              "\n",
              "    .dataframe thead th {\n",
              "        text-align: right;\n",
              "    }\n",
              "</style>\n",
              "<table border=\"1\" class=\"dataframe\">\n",
              "  <thead>\n",
              "    <tr style=\"text-align: right;\">\n",
              "      <th></th>\n",
              "      <th>Aidat</th>\n",
              "      <th>Banyo Sayısı</th>\n",
              "      <th>Bina Yaşı</th>\n",
              "      <th>Brüt / Net M2</th>\n",
              "      <th>Bulunduğu Kat</th>\n",
              "      <th>Depozito</th>\n",
              "      <th>Eşya Durumu</th>\n",
              "      <th>Fiyat</th>\n",
              "      <th>Isınma Tipi</th>\n",
              "      <th>Kat Sayısı</th>\n",
              "      <th>Konut Şekli</th>\n",
              "      <th>Kullanım Durumu</th>\n",
              "      <th>Oda + Salon Sayısı</th>\n",
              "      <th>Son Güncelleme Tarihi</th>\n",
              "      <th>Yakıt Tipi</th>\n",
              "      <th>Yapının Durumu</th>\n",
              "      <th>İlan Durumu</th>\n",
              "      <th>Cephe</th>\n",
              "      <th>Site İçerisinde</th>\n",
              "    </tr>\n",
              "  </thead>\n",
              "  <tbody>\n",
              "    <tr>\n",
              "      <th>0</th>\n",
              "      <td>30</td>\n",
              "      <td>1.0</td>\n",
              "      <td>48</td>\n",
              "      <td>130</td>\n",
              "      <td>3</td>\n",
              "      <td>1500</td>\n",
              "      <td>0</td>\n",
              "      <td>1500</td>\n",
              "      <td>6</td>\n",
              "      <td>3</td>\n",
              "      <td>1</td>\n",
              "      <td>4</td>\n",
              "      <td>4</td>\n",
              "      <td>3</td>\n",
              "      <td>2</td>\n",
              "      <td>0</td>\n",
              "      <td>Kiralık</td>\n",
              "      <td>4</td>\n",
              "      <td>0</td>\n",
              "    </tr>\n",
              "    <tr>\n",
              "      <th>1</th>\n",
              "      <td>35</td>\n",
              "      <td>1.0</td>\n",
              "      <td>43</td>\n",
              "      <td>135</td>\n",
              "      <td>3</td>\n",
              "      <td>1500</td>\n",
              "      <td>0</td>\n",
              "      <td>1500</td>\n",
              "      <td>6</td>\n",
              "      <td>4</td>\n",
              "      <td>1</td>\n",
              "      <td>4</td>\n",
              "      <td>4</td>\n",
              "      <td>12</td>\n",
              "      <td>2</td>\n",
              "      <td>0</td>\n",
              "      <td>Kiralık</td>\n",
              "      <td>1</td>\n",
              "      <td>0</td>\n",
              "    </tr>\n",
              "    <tr>\n",
              "      <th>2</th>\n",
              "      <td>50</td>\n",
              "      <td>1.0</td>\n",
              "      <td>25</td>\n",
              "      <td>125</td>\n",
              "      <td>5</td>\n",
              "      <td>1200</td>\n",
              "      <td>0</td>\n",
              "      <td>1200</td>\n",
              "      <td>6</td>\n",
              "      <td>6</td>\n",
              "      <td>1</td>\n",
              "      <td>4</td>\n",
              "      <td>4</td>\n",
              "      <td>0</td>\n",
              "      <td>2</td>\n",
              "      <td>0</td>\n",
              "      <td>Kiralık</td>\n",
              "      <td>4</td>\n",
              "      <td>0</td>\n",
              "    </tr>\n",
              "    <tr>\n",
              "      <th>3</th>\n",
              "      <td>30</td>\n",
              "      <td>1.0</td>\n",
              "      <td>43</td>\n",
              "      <td>100</td>\n",
              "      <td>0</td>\n",
              "      <td>1000</td>\n",
              "      <td>0</td>\n",
              "      <td>1000</td>\n",
              "      <td>6</td>\n",
              "      <td>2</td>\n",
              "      <td>1</td>\n",
              "      <td>4</td>\n",
              "      <td>3</td>\n",
              "      <td>0</td>\n",
              "      <td>2</td>\n",
              "      <td>1</td>\n",
              "      <td>Kiralık</td>\n",
              "      <td>4</td>\n",
              "      <td>0</td>\n",
              "    </tr>\n",
              "    <tr>\n",
              "      <th>4</th>\n",
              "      <td>1</td>\n",
              "      <td>1.0</td>\n",
              "      <td>60</td>\n",
              "      <td>70</td>\n",
              "      <td>0</td>\n",
              "      <td>2600</td>\n",
              "      <td>1</td>\n",
              "      <td>2600</td>\n",
              "      <td>4</td>\n",
              "      <td>4</td>\n",
              "      <td>1</td>\n",
              "      <td>4</td>\n",
              "      <td>2</td>\n",
              "      <td>0</td>\n",
              "      <td>2</td>\n",
              "      <td>1</td>\n",
              "      <td>Kiralık</td>\n",
              "      <td>4</td>\n",
              "      <td>0</td>\n",
              "    </tr>\n",
              "    <tr>\n",
              "      <th>...</th>\n",
              "      <td>...</td>\n",
              "      <td>...</td>\n",
              "      <td>...</td>\n",
              "      <td>...</td>\n",
              "      <td>...</td>\n",
              "      <td>...</td>\n",
              "      <td>...</td>\n",
              "      <td>...</td>\n",
              "      <td>...</td>\n",
              "      <td>...</td>\n",
              "      <td>...</td>\n",
              "      <td>...</td>\n",
              "      <td>...</td>\n",
              "      <td>...</td>\n",
              "      <td>...</td>\n",
              "      <td>...</td>\n",
              "      <td>...</td>\n",
              "      <td>...</td>\n",
              "      <td>...</td>\n",
              "    </tr>\n",
              "    <tr>\n",
              "      <th>509</th>\n",
              "      <td>270</td>\n",
              "      <td>1.0</td>\n",
              "      <td>46</td>\n",
              "      <td>128</td>\n",
              "      <td>8</td>\n",
              "      <td>1600</td>\n",
              "      <td>0</td>\n",
              "      <td>1600</td>\n",
              "      <td>6</td>\n",
              "      <td>9</td>\n",
              "      <td>1</td>\n",
              "      <td>4</td>\n",
              "      <td>4</td>\n",
              "      <td>0</td>\n",
              "      <td>2</td>\n",
              "      <td>0</td>\n",
              "      <td>Kiralık</td>\n",
              "      <td>3</td>\n",
              "      <td>1</td>\n",
              "    </tr>\n",
              "    <tr>\n",
              "      <th>510</th>\n",
              "      <td>203.544</td>\n",
              "      <td>1.0</td>\n",
              "      <td>45</td>\n",
              "      <td>25</td>\n",
              "      <td>1</td>\n",
              "      <td>1800</td>\n",
              "      <td>0</td>\n",
              "      <td>2000</td>\n",
              "      <td>4</td>\n",
              "      <td>4</td>\n",
              "      <td>1</td>\n",
              "      <td>0</td>\n",
              "      <td>1</td>\n",
              "      <td>0</td>\n",
              "      <td>1</td>\n",
              "      <td>1</td>\n",
              "      <td>Kiralık</td>\n",
              "      <td>3</td>\n",
              "      <td>0</td>\n",
              "    </tr>\n",
              "    <tr>\n",
              "      <th>511</th>\n",
              "      <td>175</td>\n",
              "      <td>1.0</td>\n",
              "      <td>30</td>\n",
              "      <td>95</td>\n",
              "      <td>4</td>\n",
              "      <td>1200</td>\n",
              "      <td>0</td>\n",
              "      <td>1200</td>\n",
              "      <td>6</td>\n",
              "      <td>4</td>\n",
              "      <td>1</td>\n",
              "      <td>4</td>\n",
              "      <td>3</td>\n",
              "      <td>1</td>\n",
              "      <td>2</td>\n",
              "      <td>0</td>\n",
              "      <td>Kiralık</td>\n",
              "      <td>4</td>\n",
              "      <td>0</td>\n",
              "    </tr>\n",
              "    <tr>\n",
              "      <th>512</th>\n",
              "      <td>113</td>\n",
              "      <td>1.0</td>\n",
              "      <td>60</td>\n",
              "      <td>100</td>\n",
              "      <td>0</td>\n",
              "      <td>1750</td>\n",
              "      <td>0</td>\n",
              "      <td>700</td>\n",
              "      <td>4</td>\n",
              "      <td>6</td>\n",
              "      <td>1</td>\n",
              "      <td>4</td>\n",
              "      <td>3</td>\n",
              "      <td>0</td>\n",
              "      <td>2</td>\n",
              "      <td>1</td>\n",
              "      <td>Kiralık</td>\n",
              "      <td>4</td>\n",
              "      <td>1</td>\n",
              "    </tr>\n",
              "    <tr>\n",
              "      <th>513</th>\n",
              "      <td>100</td>\n",
              "      <td>1.0</td>\n",
              "      <td>40</td>\n",
              "      <td>90</td>\n",
              "      <td>0</td>\n",
              "      <td>1800</td>\n",
              "      <td>1</td>\n",
              "      <td>1850</td>\n",
              "      <td>6</td>\n",
              "      <td>3</td>\n",
              "      <td>1</td>\n",
              "      <td>0</td>\n",
              "      <td>3</td>\n",
              "      <td>0</td>\n",
              "      <td>2</td>\n",
              "      <td>0</td>\n",
              "      <td>Kiralık</td>\n",
              "      <td>4</td>\n",
              "      <td>0</td>\n",
              "    </tr>\n",
              "  </tbody>\n",
              "</table>\n",
              "<p>512 rows × 19 columns</p>\n",
              "</div>"
            ],
            "text/plain": [
              "       Aidat  Banyo Sayısı  Bina Yaşı  ...  İlan Durumu Cephe  Site İçerisinde\n",
              "0         30           1.0         48  ...      Kiralık      4               0\n",
              "1         35           1.0         43  ...      Kiralık      1               0\n",
              "2         50           1.0         25  ...      Kiralık      4               0\n",
              "3         30           1.0         43  ...      Kiralık      4               0\n",
              "4          1           1.0         60  ...      Kiralık      4               0\n",
              "..       ...           ...        ...  ...          ...    ...             ...\n",
              "509      270           1.0         46  ...      Kiralık      3               1\n",
              "510  203.544           1.0         45  ...      Kiralık      3               0\n",
              "511      175           1.0         30  ...      Kiralık      4               0\n",
              "512      113           1.0         60  ...      Kiralık      4               1\n",
              "513      100           1.0         40  ...      Kiralık      4               0\n",
              "\n",
              "[512 rows x 19 columns]"
            ]
          },
          "metadata": {
            "tags": []
          },
          "execution_count": 81
        }
      ]
    },
    {
      "cell_type": "code",
      "metadata": {
        "colab": {
          "base_uri": "https://localhost:8080/"
        },
        "id": "BvmoUef5st9N",
        "outputId": "6e454189-37a6-4ad1-a0b6-6fe9e8f79754"
      },
      "source": [
        "Tablo.info()"
      ],
      "execution_count": null,
      "outputs": [
        {
          "output_type": "stream",
          "text": [
            "<class 'pandas.core.frame.DataFrame'>\n",
            "Int64Index: 512 entries, 0 to 513\n",
            "Data columns (total 19 columns):\n",
            " #   Column                 Non-Null Count  Dtype  \n",
            "---  ------                 --------------  -----  \n",
            " 0   Aidat                  512 non-null    object \n",
            " 1   Banyo Sayısı           512 non-null    float64\n",
            " 2   Bina Yaşı              512 non-null    int64  \n",
            " 3   Brüt / Net M2          512 non-null    int64  \n",
            " 4   Bulunduğu Kat          512 non-null    object \n",
            " 5   Depozito               512 non-null    object \n",
            " 6   Eşya Durumu            512 non-null    int64  \n",
            " 7   Fiyat                  512 non-null    int64  \n",
            " 8   Isınma Tipi            512 non-null    int64  \n",
            " 9   Kat Sayısı             512 non-null    object \n",
            " 10  Konut Şekli            512 non-null    int64  \n",
            " 11  Kullanım Durumu        512 non-null    int64  \n",
            " 12  Oda + Salon Sayısı     512 non-null    int64  \n",
            " 13  Son Güncelleme Tarihi  512 non-null    int64  \n",
            " 14  Yakıt Tipi             512 non-null    object \n",
            " 15  Yapının Durumu         512 non-null    int64  \n",
            " 16  İlan Durumu            512 non-null    object \n",
            " 17  Cephe                  512 non-null    int64  \n",
            " 18  Site İçerisinde        512 non-null    object \n",
            "dtypes: float64(1), int64(11), object(7)\n",
            "memory usage: 100.0+ KB\n"
          ],
          "name": "stdout"
        }
      ]
    },
    {
      "cell_type": "code",
      "metadata": {
        "id": "ibjnbanGs4Xj"
      },
      "source": [
        "\n",
        "Tablo['Bulunduğu Kat']=Tablo['Bulunduğu Kat'].astype('int64')\n",
        "Tablo['Depozito']=Tablo['Depozito'].astype('int64')\n",
        "Tablo['Kat Sayısı']=Tablo['Kat Sayısı'].astype('int64')\n",
        "Tablo['Site İçerisinde']=Tablo['Site İçerisinde'].astype('int64')"
      ],
      "execution_count": null,
      "outputs": []
    },
    {
      "cell_type": "code",
      "metadata": {
        "id": "1mKoQT-6z5vO"
      },
      "source": [
        "Tablo2=Tablo.copy()"
      ],
      "execution_count": null,
      "outputs": []
    },
    {
      "cell_type": "code",
      "metadata": {
        "id": "sKhvOJTwH3j3"
      },
      "source": [
        "import seaborn as sns"
      ],
      "execution_count": null,
      "outputs": []
    },
    {
      "cell_type": "markdown",
      "metadata": {
        "id": "zLWj2rcZTScN"
      },
      "source": [
        "# regression eğrisinin eğimini gerçeğe yaklaştırmak için aykırıları kaldıracağım"
      ]
    },
    {
      "cell_type": "code",
      "metadata": {
        "id": "_Xq5wcrXTRe2"
      },
      "source": [
        ""
      ],
      "execution_count": null,
      "outputs": []
    },
    {
      "cell_type": "code",
      "metadata": {
        "id": "wp8ty2uX3oDx"
      },
      "source": [
        "def aykiri_yok_edici(x):\n",
        "  Q1=Tablo2[x].quantile(0.25)\n",
        "  Q3=Tablo2[x].quantile(0.75)\n",
        "  IQR=Q3-Q1\n",
        "  alt_sinir=Q1-1.5*IQR\n",
        "  ust_sinir=Q3+1.5*IQR\n",
        "  Tablo2[x][Tablo2[x]>=ust_sinir]=ust_sinir\n",
        "  Tablo2[x][Tablo2[x]<=alt_sinir]=alt_sinir"
      ],
      "execution_count": null,
      "outputs": []
    },
    {
      "cell_type": "code",
      "metadata": {
        "colab": {
          "base_uri": "https://localhost:8080/",
          "height": 350
        },
        "id": "Oc6BHvIGty95",
        "outputId": "023d5e7d-1cde-4377-f4ce-9193412795c9"
      },
      "source": [
        "sns.boxplot(Tablo2['Fiyat'])"
      ],
      "execution_count": null,
      "outputs": [
        {
          "output_type": "stream",
          "text": [
            "/usr/local/lib/python3.7/dist-packages/seaborn/_decorators.py:43: FutureWarning: Pass the following variable as a keyword arg: x. From version 0.12, the only valid positional argument will be `data`, and passing other arguments without an explicit keyword will result in an error or misinterpretation.\n",
            "  FutureWarning\n"
          ],
          "name": "stderr"
        },
        {
          "output_type": "execute_result",
          "data": {
            "text/plain": [
              "<matplotlib.axes._subplots.AxesSubplot at 0x7f94d9dacbd0>"
            ]
          },
          "metadata": {
            "tags": []
          },
          "execution_count": 89
        },
        {
          "output_type": "display_data",
          "data": {
            "image/png": "[encoded data removed]",
            "text/plain": [
              "<Figure size 432x288 with 1 Axes>"
            ]
          },
          "metadata": {
            "tags": [],
            "needs_background": "light"
          }
        }
      ]
    },
    {
      "cell_type": "code",
      "metadata": {
        "colab": {
          "base_uri": "https://localhost:8080/"
        },
        "id": "uqyk_sklza_X",
        "outputId": "989c0de8-87ff-4d56-ec1c-768243459c64"
      },
      "source": [
        "aykiri_yok_edici('Fiyat')"
      ],
      "execution_count": null,
      "outputs": [
        {
          "output_type": "stream",
          "text": [
            "/usr/local/lib/python3.7/dist-packages/ipykernel_launcher.py:7: SettingWithCopyWarning: \n",
            "A value is trying to be set on a copy of a slice from a DataFrame\n",
            "\n",
            "See the caveats in the documentation: https://pandas.pydata.org/pandas-docs/stable/user_guide/indexing.html#returning-a-view-versus-a-copy\n",
            "  import sys\n",
            "/usr/local/lib/python3.7/dist-packages/ipykernel_launcher.py:8: SettingWithCopyWarning: \n",
            "A value is trying to be set on a copy of a slice from a DataFrame\n",
            "\n",
            "See the caveats in the documentation: https://pandas.pydata.org/pandas-docs/stable/user_guide/indexing.html#returning-a-view-versus-a-copy\n",
            "  \n"
          ],
          "name": "stderr"
        }
      ]
    },
    {
      "cell_type": "code",
      "metadata": {
        "colab": {
          "base_uri": "https://localhost:8080/",
          "height": 350
        },
        "id": "mq3V1WuJ0THU",
        "outputId": "279cd8f2-246d-439c-ae48-18ade2f4a5ad"
      },
      "source": [
        "sns.boxplot(Tablo2['Fiyat'])"
      ],
      "execution_count": null,
      "outputs": [
        {
          "output_type": "stream",
          "text": [
            "/usr/local/lib/python3.7/dist-packages/seaborn/_decorators.py:43: FutureWarning: Pass the following variable as a keyword arg: x. From version 0.12, the only valid positional argument will be `data`, and passing other arguments without an explicit keyword will result in an error or misinterpretation.\n",
            "  FutureWarning\n"
          ],
          "name": "stderr"
        },
        {
          "output_type": "execute_result",
          "data": {
            "text/plain": [
              "<matplotlib.axes._subplots.AxesSubplot at 0x7f94d9d0fe10>"
            ]
          },
          "metadata": {
            "tags": []
          },
          "execution_count": 91
        },
        {
          "output_type": "display_data",
          "data": {
            "image/png": "[encoded data removed]",
            "text/plain": [
              "<Figure size 432x288 with 1 Axes>"
            ]
          },
          "metadata": {
            "tags": [],
            "needs_background": "light"
          }
        }
      ]
    },
    {
      "cell_type": "code",
      "metadata": {
        "colab": {
          "base_uri": "https://localhost:8080/",
          "height": 350
        },
        "id": "tlu3yA8n1INR",
        "outputId": "de1d99f3-b5f4-4d3a-9a14-1c4a9897f72a"
      },
      "source": [
        "sns.boxplot(Tablo2['Banyo Sayısı'])"
      ],
      "execution_count": null,
      "outputs": [
        {
          "output_type": "stream",
          "text": [
            "/usr/local/lib/python3.7/dist-packages/seaborn/_decorators.py:43: FutureWarning: Pass the following variable as a keyword arg: x. From version 0.12, the only valid positional argument will be `data`, and passing other arguments without an explicit keyword will result in an error or misinterpretation.\n",
            "  FutureWarning\n"
          ],
          "name": "stderr"
        },
        {
          "output_type": "execute_result",
          "data": {
            "text/plain": [
              "<matplotlib.axes._subplots.AxesSubplot at 0x7f94d97db4d0>"
            ]
          },
          "metadata": {
            "tags": []
          },
          "execution_count": 92
        },
        {
          "output_type": "display_data",
          "data": {
            "image/png": "[encoded data removed]",
            "text/plain": [
              "<Figure size 432x288 with 1 Axes>"
            ]
          },
          "metadata": {
            "tags": [],
            "needs_background": "light"
          }
        }
      ]
    },
    {
      "cell_type": "code",
      "metadata": {
        "id": "nls6PTRp1IGs"
      },
      "source": [
        "Tablo2['Banyo Sayısı']=1"
      ],
      "execution_count": null,
      "outputs": []
    },
    {
      "cell_type": "code",
      "metadata": {
        "colab": {
          "base_uri": "https://localhost:8080/",
          "height": 350
        },
        "id": "KUB5WDT01H_8",
        "outputId": "3381c37e-46ec-468c-e51d-a39fd38b777b"
      },
      "source": [
        "sns.boxplot(Tablo2['Banyo Sayısı'])"
      ],
      "execution_count": null,
      "outputs": [
        {
          "output_type": "stream",
          "text": [
            "/usr/local/lib/python3.7/dist-packages/seaborn/_decorators.py:43: FutureWarning: Pass the following variable as a keyword arg: x. From version 0.12, the only valid positional argument will be `data`, and passing other arguments without an explicit keyword will result in an error or misinterpretation.\n",
            "  FutureWarning\n"
          ],
          "name": "stderr"
        },
        {
          "output_type": "execute_result",
          "data": {
            "text/plain": [
              "<matplotlib.axes._subplots.AxesSubplot at 0x7f94d974c950>"
            ]
          },
          "metadata": {
            "tags": []
          },
          "execution_count": 94
        },
        {
          "output_type": "display_data",
          "data": {
            "image/png": "[encoded data removed]",
            "text/plain": [
              "<Figure size 432x288 with 1 Axes>"
            ]
          },
          "metadata": {
            "tags": [],
            "needs_background": "light"
          }
        }
      ]
    },
    {
      "cell_type": "code",
      "metadata": {
        "colab": {
          "base_uri": "https://localhost:8080/",
          "height": 350
        },
        "id": "CJJK5jwk1H2e",
        "outputId": "3903f6a2-b21b-4225-ef3c-49f6daa1f7a1"
      },
      "source": [
        "sns.boxplot(Tablo2['Depozito'])"
      ],
      "execution_count": null,
      "outputs": [
        {
          "output_type": "stream",
          "text": [
            "/usr/local/lib/python3.7/dist-packages/seaborn/_decorators.py:43: FutureWarning: Pass the following variable as a keyword arg: x. From version 0.12, the only valid positional argument will be `data`, and passing other arguments without an explicit keyword will result in an error or misinterpretation.\n",
            "  FutureWarning\n"
          ],
          "name": "stderr"
        },
        {
          "output_type": "execute_result",
          "data": {
            "text/plain": [
              "<matplotlib.axes._subplots.AxesSubplot at 0x7f94d97337d0>"
            ]
          },
          "metadata": {
            "tags": []
          },
          "execution_count": 95
        },
        {
          "output_type": "display_data",
          "data": {
            "image/png": "[encoded data removed]",
            "text/plain": [
              "<Figure size 432x288 with 1 Axes>"
            ]
          },
          "metadata": {
            "tags": [],
            "needs_background": "light"
          }
        }
      ]
    },
    {
      "cell_type": "code",
      "metadata": {
        "colab": {
          "base_uri": "https://localhost:8080/"
        },
        "id": "2d8qr-E81JAu",
        "outputId": "4e70b2f7-e443-4dc9-c395-89a55c19bdc1"
      },
      "source": [
        "aykiri_yok_edici('Depozito')"
      ],
      "execution_count": null,
      "outputs": [
        {
          "output_type": "stream",
          "text": [
            "/usr/local/lib/python3.7/dist-packages/ipykernel_launcher.py:7: SettingWithCopyWarning: \n",
            "A value is trying to be set on a copy of a slice from a DataFrame\n",
            "\n",
            "See the caveats in the documentation: https://pandas.pydata.org/pandas-docs/stable/user_guide/indexing.html#returning-a-view-versus-a-copy\n",
            "  import sys\n",
            "/usr/local/lib/python3.7/dist-packages/ipykernel_launcher.py:8: SettingWithCopyWarning: \n",
            "A value is trying to be set on a copy of a slice from a DataFrame\n",
            "\n",
            "See the caveats in the documentation: https://pandas.pydata.org/pandas-docs/stable/user_guide/indexing.html#returning-a-view-versus-a-copy\n",
            "  \n"
          ],
          "name": "stderr"
        }
      ]
    },
    {
      "cell_type": "code",
      "metadata": {
        "colab": {
          "base_uri": "https://localhost:8080/",
          "height": 350
        },
        "id": "16H9cDMT2do7",
        "outputId": "4a41a302-0345-4598-d45c-c73f490e91e9"
      },
      "source": [
        "sns.boxplot(Tablo2['Depozito'])"
      ],
      "execution_count": null,
      "outputs": [
        {
          "output_type": "stream",
          "text": [
            "/usr/local/lib/python3.7/dist-packages/seaborn/_decorators.py:43: FutureWarning: Pass the following variable as a keyword arg: x. From version 0.12, the only valid positional argument will be `data`, and passing other arguments without an explicit keyword will result in an error or misinterpretation.\n",
            "  FutureWarning\n"
          ],
          "name": "stderr"
        },
        {
          "output_type": "execute_result",
          "data": {
            "text/plain": [
              "<matplotlib.axes._subplots.AxesSubplot at 0x7f94d969da90>"
            ]
          },
          "metadata": {
            "tags": []
          },
          "execution_count": 97
        },
        {
          "output_type": "display_data",
          "data": {
            "image/png": "[encoded data removed]",
            "text/plain": [
              "<Figure size 432x288 with 1 Axes>"
            ]
          },
          "metadata": {
            "tags": [],
            "needs_background": "light"
          }
        }
      ]
    },
    {
      "cell_type": "code",
      "metadata": {
        "colab": {
          "base_uri": "https://localhost:8080/",
          "height": 350
        },
        "id": "Se0Y6Z3b2Bj4",
        "outputId": "ad9c86bb-a7d6-4112-9552-a2eb000067cf"
      },
      "source": [
        "sns.boxplot(Tablo2['Brüt / Net M2'])"
      ],
      "execution_count": null,
      "outputs": [
        {
          "output_type": "stream",
          "text": [
            "/usr/local/lib/python3.7/dist-packages/seaborn/_decorators.py:43: FutureWarning: Pass the following variable as a keyword arg: x. From version 0.12, the only valid positional argument will be `data`, and passing other arguments without an explicit keyword will result in an error or misinterpretation.\n",
            "  FutureWarning\n"
          ],
          "name": "stderr"
        },
        {
          "output_type": "execute_result",
          "data": {
            "text/plain": [
              "<matplotlib.axes._subplots.AxesSubplot at 0x7f94d9611850>"
            ]
          },
          "metadata": {
            "tags": []
          },
          "execution_count": 98
        },
        {
          "output_type": "display_data",
          "data": {
            "image/png": "[encoded data removed]",
            "text/plain": [
              "<Figure size 432x288 with 1 Axes>"
            ]
          },
          "metadata": {
            "tags": [],
            "needs_background": "light"
          }
        }
      ]
    },
    {
      "cell_type": "code",
      "metadata": {
        "colab": {
          "base_uri": "https://localhost:8080/"
        },
        "id": "K3wzwXQG2BdO",
        "outputId": "8e8beeff-abf9-4c91-b6b3-d6831df20783"
      },
      "source": [
        "aykiri_yok_edici('Brüt / Net M2')"
      ],
      "execution_count": null,
      "outputs": [
        {
          "output_type": "stream",
          "text": [
            "/usr/local/lib/python3.7/dist-packages/ipykernel_launcher.py:7: SettingWithCopyWarning: \n",
            "A value is trying to be set on a copy of a slice from a DataFrame\n",
            "\n",
            "See the caveats in the documentation: https://pandas.pydata.org/pandas-docs/stable/user_guide/indexing.html#returning-a-view-versus-a-copy\n",
            "  import sys\n"
          ],
          "name": "stderr"
        }
      ]
    },
    {
      "cell_type": "code",
      "metadata": {
        "colab": {
          "base_uri": "https://localhost:8080/",
          "height": 350
        },
        "id": "ijvAwCFe3Rd7",
        "outputId": "3fed6dc5-6b21-408c-d3c6-45046040699b"
      },
      "source": [
        "sns.boxplot(Tablo2['Brüt / Net M2'])"
      ],
      "execution_count": null,
      "outputs": [
        {
          "output_type": "stream",
          "text": [
            "/usr/local/lib/python3.7/dist-packages/seaborn/_decorators.py:43: FutureWarning: Pass the following variable as a keyword arg: x. From version 0.12, the only valid positional argument will be `data`, and passing other arguments without an explicit keyword will result in an error or misinterpretation.\n",
            "  FutureWarning\n"
          ],
          "name": "stderr"
        },
        {
          "output_type": "execute_result",
          "data": {
            "text/plain": [
              "<matplotlib.axes._subplots.AxesSubplot at 0x7f94d96acb10>"
            ]
          },
          "metadata": {
            "tags": []
          },
          "execution_count": 100
        },
        {
          "output_type": "display_data",
          "data": {
            "image/png": "[encoded data removed]",
            "text/plain": [
              "<Figure size 432x288 with 1 Axes>"
            ]
          },
          "metadata": {
            "tags": [],
            "needs_background": "light"
          }
        }
      ]
    },
    {
      "cell_type": "code",
      "metadata": {
        "colab": {
          "base_uri": "https://localhost:8080/",
          "height": 351
        },
        "id": "twe1cj2g3cMe",
        "outputId": "a01c8c65-5127-4605-f08f-f3762ceebced"
      },
      "source": [
        "sns.boxplot(Tablo2['Bulunduğu Kat'])"
      ],
      "execution_count": null,
      "outputs": [
        {
          "output_type": "stream",
          "text": [
            "/usr/local/lib/python3.7/dist-packages/seaborn/_decorators.py:43: FutureWarning: Pass the following variable as a keyword arg: x. From version 0.12, the only valid positional argument will be `data`, and passing other arguments without an explicit keyword will result in an error or misinterpretation.\n",
            "  FutureWarning\n"
          ],
          "name": "stderr"
        },
        {
          "output_type": "execute_result",
          "data": {
            "text/plain": [
              "<matplotlib.axes._subplots.AxesSubplot at 0x7f94d95a2b50>"
            ]
          },
          "metadata": {
            "tags": []
          },
          "execution_count": 101
        },
        {
          "output_type": "display_data",
          "data": {
            "image/png": "[encoded data removed]",
            "text/plain": [
              "<Figure size 432x288 with 1 Axes>"
            ]
          },
          "metadata": {
            "tags": [],
            "needs_background": "light"
          }
        }
      ]
    },
    {
      "cell_type": "code",
      "metadata": {
        "colab": {
          "base_uri": "https://localhost:8080/"
        },
        "id": "DYdSxjfv3cHE",
        "outputId": "725cc2b1-f225-451d-ca88-4171aacaac0c"
      },
      "source": [
        "aykiri_yok_edici('Bulunduğu Kat')"
      ],
      "execution_count": null,
      "outputs": [
        {
          "output_type": "stream",
          "text": [
            "/usr/local/lib/python3.7/dist-packages/ipykernel_launcher.py:7: SettingWithCopyWarning: \n",
            "A value is trying to be set on a copy of a slice from a DataFrame\n",
            "\n",
            "See the caveats in the documentation: https://pandas.pydata.org/pandas-docs/stable/user_guide/indexing.html#returning-a-view-versus-a-copy\n",
            "  import sys\n"
          ],
          "name": "stderr"
        }
      ]
    },
    {
      "cell_type": "code",
      "metadata": {
        "colab": {
          "base_uri": "https://localhost:8080/",
          "height": 351
        },
        "id": "W3IYS0Cj3cCw",
        "outputId": "929c4705-03cd-49ed-e780-0eb68517be07"
      },
      "source": [
        "sns.boxplot(Tablo2['Bulunduğu Kat'])"
      ],
      "execution_count": null,
      "outputs": [
        {
          "output_type": "stream",
          "text": [
            "/usr/local/lib/python3.7/dist-packages/seaborn/_decorators.py:43: FutureWarning: Pass the following variable as a keyword arg: x. From version 0.12, the only valid positional argument will be `data`, and passing other arguments without an explicit keyword will result in an error or misinterpretation.\n",
            "  FutureWarning\n"
          ],
          "name": "stderr"
        },
        {
          "output_type": "execute_result",
          "data": {
            "text/plain": [
              "<matplotlib.axes._subplots.AxesSubplot at 0x7f94d94cb710>"
            ]
          },
          "metadata": {
            "tags": []
          },
          "execution_count": 103
        },
        {
          "output_type": "display_data",
          "data": {
            "image/png": "[encoded data removed]",
            "text/plain": [
              "<Figure size 432x288 with 1 Axes>"
            ]
          },
          "metadata": {
            "tags": [],
            "needs_background": "light"
          }
        }
      ]
    },
    {
      "cell_type": "code",
      "metadata": {
        "colab": {
          "base_uri": "https://localhost:8080/",
          "height": 350
        },
        "id": "akplDtMo3brd",
        "outputId": "304c702c-7c23-4af9-ea99-ba490e16a0a8"
      },
      "source": [
        "sns.boxplot(Tablo2['Oda + Salon Sayısı'])"
      ],
      "execution_count": null,
      "outputs": [
        {
          "output_type": "stream",
          "text": [
            "/usr/local/lib/python3.7/dist-packages/seaborn/_decorators.py:43: FutureWarning: Pass the following variable as a keyword arg: x. From version 0.12, the only valid positional argument will be `data`, and passing other arguments without an explicit keyword will result in an error or misinterpretation.\n",
            "  FutureWarning\n"
          ],
          "name": "stderr"
        },
        {
          "output_type": "execute_result",
          "data": {
            "text/plain": [
              "<matplotlib.axes._subplots.AxesSubplot at 0x7f94d94b5d10>"
            ]
          },
          "metadata": {
            "tags": []
          },
          "execution_count": 104
        },
        {
          "output_type": "display_data",
          "data": {
            "image/png": "[encoded data removed]",
            "text/plain": [
              "<Figure size 432x288 with 1 Axes>"
            ]
          },
          "metadata": {
            "tags": [],
            "needs_background": "light"
          }
        }
      ]
    },
    {
      "cell_type": "code",
      "metadata": {
        "colab": {
          "base_uri": "https://localhost:8080/"
        },
        "id": "BwSfFpXn5C-K",
        "outputId": "b32fef37-c844-4ede-c823-885e8f583daa"
      },
      "source": [
        "aykiri_yok_edici('Oda + Salon Sayısı')"
      ],
      "execution_count": null,
      "outputs": [
        {
          "output_type": "stream",
          "text": [
            "/usr/local/lib/python3.7/dist-packages/ipykernel_launcher.py:7: SettingWithCopyWarning: \n",
            "A value is trying to be set on a copy of a slice from a DataFrame\n",
            "\n",
            "See the caveats in the documentation: https://pandas.pydata.org/pandas-docs/stable/user_guide/indexing.html#returning-a-view-versus-a-copy\n",
            "  import sys\n"
          ],
          "name": "stderr"
        }
      ]
    },
    {
      "cell_type": "code",
      "metadata": {
        "colab": {
          "base_uri": "https://localhost:8080/",
          "height": 350
        },
        "id": "BfDRBNFB5Cv4",
        "outputId": "ae65f1c7-0a04-4e1e-f74b-40db1d055a02"
      },
      "source": [
        "sns.boxplot(Tablo2['Oda + Salon Sayısı'])"
      ],
      "execution_count": null,
      "outputs": [
        {
          "output_type": "stream",
          "text": [
            "/usr/local/lib/python3.7/dist-packages/seaborn/_decorators.py:43: FutureWarning: Pass the following variable as a keyword arg: x. From version 0.12, the only valid positional argument will be `data`, and passing other arguments without an explicit keyword will result in an error or misinterpretation.\n",
            "  FutureWarning\n"
          ],
          "name": "stderr"
        },
        {
          "output_type": "execute_result",
          "data": {
            "text/plain": [
              "<matplotlib.axes._subplots.AxesSubplot at 0x7f94d9425e10>"
            ]
          },
          "metadata": {
            "tags": []
          },
          "execution_count": 106
        },
        {
          "output_type": "display_data",
          "data": {
            "image/png": "[encoded data removed]",
            "text/plain": [
              "<Figure size 432x288 with 1 Axes>"
            ]
          },
          "metadata": {
            "tags": [],
            "needs_background": "light"
          }
        }
      ]
    },
    {
      "cell_type": "code",
      "metadata": {
        "colab": {
          "base_uri": "https://localhost:8080/",
          "height": 350
        },
        "id": "DHvQ0O9R5Cmh",
        "outputId": "11a62d62-e29c-4f5c-d3f7-6acf7e73639f"
      },
      "source": [
        "sns.boxplot(Tablo2['Son Güncelleme Tarihi'])"
      ],
      "execution_count": null,
      "outputs": [
        {
          "output_type": "stream",
          "text": [
            "/usr/local/lib/python3.7/dist-packages/seaborn/_decorators.py:43: FutureWarning: Pass the following variable as a keyword arg: x. From version 0.12, the only valid positional argument will be `data`, and passing other arguments without an explicit keyword will result in an error or misinterpretation.\n",
            "  FutureWarning\n"
          ],
          "name": "stderr"
        },
        {
          "output_type": "execute_result",
          "data": {
            "text/plain": [
              "<matplotlib.axes._subplots.AxesSubplot at 0x7f94d93db350>"
            ]
          },
          "metadata": {
            "tags": []
          },
          "execution_count": 107
        },
        {
          "output_type": "display_data",
          "data": {
            "image/png": "[encoded data removed]",
            "text/plain": [
              "<Figure size 432x288 with 1 Axes>"
            ]
          },
          "metadata": {
            "tags": [],
            "needs_background": "light"
          }
        }
      ]
    },
    {
      "cell_type": "code",
      "metadata": {
        "colab": {
          "base_uri": "https://localhost:8080/",
          "height": 350
        },
        "id": "VE4HqQRg5CHA",
        "outputId": "1e9e675a-c5f0-4c39-9ee3-f20f792a044b"
      },
      "source": [
        "sns.boxplot(Tablo2['Son Güncelleme Tarihi'])"
      ],
      "execution_count": null,
      "outputs": [
        {
          "output_type": "stream",
          "text": [
            "/usr/local/lib/python3.7/dist-packages/seaborn/_decorators.py:43: FutureWarning: Pass the following variable as a keyword arg: x. From version 0.12, the only valid positional argument will be `data`, and passing other arguments without an explicit keyword will result in an error or misinterpretation.\n",
            "  FutureWarning\n"
          ],
          "name": "stderr"
        },
        {
          "output_type": "execute_result",
          "data": {
            "text/plain": [
              "<matplotlib.axes._subplots.AxesSubplot at 0x7f94d93805d0>"
            ]
          },
          "metadata": {
            "tags": []
          },
          "execution_count": 108
        },
        {
          "output_type": "display_data",
          "data": {
            "image/png": "[encoded data removed]",
            "text/plain": [
              "<Figure size 432x288 with 1 Axes>"
            ]
          },
          "metadata": {
            "tags": [],
            "needs_background": "light"
          }
        }
      ]
    },
    {
      "cell_type": "code",
      "metadata": {
        "colab": {
          "base_uri": "https://localhost:8080/",
          "height": 350
        },
        "id": "kQRDNVf17tJF",
        "outputId": "1bf89ec1-f706-40ce-c59e-bcfac2c2614b"
      },
      "source": [
        "sns.boxplot(Tablo2['Isınma Tipi'])"
      ],
      "execution_count": null,
      "outputs": [
        {
          "output_type": "stream",
          "text": [
            "/usr/local/lib/python3.7/dist-packages/seaborn/_decorators.py:43: FutureWarning: Pass the following variable as a keyword arg: x. From version 0.12, the only valid positional argument will be `data`, and passing other arguments without an explicit keyword will result in an error or misinterpretation.\n",
            "  FutureWarning\n"
          ],
          "name": "stderr"
        },
        {
          "output_type": "execute_result",
          "data": {
            "text/plain": [
              "<matplotlib.axes._subplots.AxesSubplot at 0x7f94d9340cd0>"
            ]
          },
          "metadata": {
            "tags": []
          },
          "execution_count": 109
        },
        {
          "output_type": "display_data",
          "data": {
            "image/png": "[encoded data removed]",
            "text/plain": [
              "<Figure size 432x288 with 1 Axes>"
            ]
          },
          "metadata": {
            "tags": [],
            "needs_background": "light"
          }
        }
      ]
    },
    {
      "cell_type": "code",
      "metadata": {
        "colab": {
          "base_uri": "https://localhost:8080/"
        },
        "id": "DpcUTeXZ7s3Z",
        "outputId": "1c5d6eec-5230-4971-d166-04d90d4ea6d1"
      },
      "source": [
        "aykiri_yok_edici('Isınma Tipi')"
      ],
      "execution_count": null,
      "outputs": [
        {
          "output_type": "stream",
          "text": [
            "/usr/local/lib/python3.7/dist-packages/ipykernel_launcher.py:7: SettingWithCopyWarning: \n",
            "A value is trying to be set on a copy of a slice from a DataFrame\n",
            "\n",
            "See the caveats in the documentation: https://pandas.pydata.org/pandas-docs/stable/user_guide/indexing.html#returning-a-view-versus-a-copy\n",
            "  import sys\n",
            "/usr/local/lib/python3.7/dist-packages/ipykernel_launcher.py:8: SettingWithCopyWarning: \n",
            "A value is trying to be set on a copy of a slice from a DataFrame\n",
            "\n",
            "See the caveats in the documentation: https://pandas.pydata.org/pandas-docs/stable/user_guide/indexing.html#returning-a-view-versus-a-copy\n",
            "  \n"
          ],
          "name": "stderr"
        }
      ]
    },
    {
      "cell_type": "code",
      "metadata": {
        "colab": {
          "base_uri": "https://localhost:8080/",
          "height": 350
        },
        "id": "bTHLWY6Z8BQn",
        "outputId": "945607d2-07d2-4c6a-8933-e607886a97fc"
      },
      "source": [
        "sns.boxplot(Tablo2['Isınma Tipi'])"
      ],
      "execution_count": null,
      "outputs": [
        {
          "output_type": "stream",
          "text": [
            "/usr/local/lib/python3.7/dist-packages/seaborn/_decorators.py:43: FutureWarning: Pass the following variable as a keyword arg: x. From version 0.12, the only valid positional argument will be `data`, and passing other arguments without an explicit keyword will result in an error or misinterpretation.\n",
            "  FutureWarning\n"
          ],
          "name": "stderr"
        },
        {
          "output_type": "execute_result",
          "data": {
            "text/plain": [
              "<matplotlib.axes._subplots.AxesSubplot at 0x7f94d9277d10>"
            ]
          },
          "metadata": {
            "tags": []
          },
          "execution_count": 111
        },
        {
          "output_type": "display_data",
          "data": {
            "image/png": "[encoded data removed]",
            "text/plain": [
              "<Figure size 432x288 with 1 Axes>"
            ]
          },
          "metadata": {
            "tags": [],
            "needs_background": "light"
          }
        }
      ]
    },
    {
      "cell_type": "code",
      "metadata": {
        "colab": {
          "base_uri": "https://localhost:8080/",
          "height": 162
        },
        "id": "v4DrFUvs1I3k",
        "outputId": "3d8040ed-d0a3-4de0-a568-3117d5c8ab7b"
      },
      "source": [
        "Tablo[:2]"
      ],
      "execution_count": null,
      "outputs": [
        {
          "output_type": "execute_result",
          "data": {
            "text/html": [
              "<div>\n",
              "<style scoped>\n",
              "    .dataframe tbody tr th:only-of-type {\n",
              "        vertical-align: middle;\n",
              "    }\n",
              "\n",
              "    .dataframe tbody tr th {\n",
              "        vertical-align: top;\n",
              "    }\n",
              "\n",
              "    .dataframe thead th {\n",
              "        text-align: right;\n",
              "    }\n",
              "</style>\n",
              "<table border=\"1\" class=\"dataframe\">\n",
              "  <thead>\n",
              "    <tr style=\"text-align: right;\">\n",
              "      <th></th>\n",
              "      <th>Aidat</th>\n",
              "      <th>Banyo Sayısı</th>\n",
              "      <th>Bina Yaşı</th>\n",
              "      <th>Brüt / Net M2</th>\n",
              "      <th>Bulunduğu Kat</th>\n",
              "      <th>Depozito</th>\n",
              "      <th>Eşya Durumu</th>\n",
              "      <th>Fiyat</th>\n",
              "      <th>Isınma Tipi</th>\n",
              "      <th>Kat Sayısı</th>\n",
              "      <th>Konut Şekli</th>\n",
              "      <th>Kullanım Durumu</th>\n",
              "      <th>Oda + Salon Sayısı</th>\n",
              "      <th>Son Güncelleme Tarihi</th>\n",
              "      <th>Yakıt Tipi</th>\n",
              "      <th>Yapının Durumu</th>\n",
              "      <th>İlan Durumu</th>\n",
              "      <th>Cephe</th>\n",
              "      <th>Site İçerisinde</th>\n",
              "    </tr>\n",
              "  </thead>\n",
              "  <tbody>\n",
              "    <tr>\n",
              "      <th>0</th>\n",
              "      <td>30</td>\n",
              "      <td>1.0</td>\n",
              "      <td>48</td>\n",
              "      <td>130</td>\n",
              "      <td>3</td>\n",
              "      <td>1500</td>\n",
              "      <td>0</td>\n",
              "      <td>1500</td>\n",
              "      <td>6</td>\n",
              "      <td>3</td>\n",
              "      <td>1</td>\n",
              "      <td>4</td>\n",
              "      <td>4</td>\n",
              "      <td>3</td>\n",
              "      <td>2</td>\n",
              "      <td>0</td>\n",
              "      <td>Kiralık</td>\n",
              "      <td>4</td>\n",
              "      <td>0</td>\n",
              "    </tr>\n",
              "    <tr>\n",
              "      <th>1</th>\n",
              "      <td>35</td>\n",
              "      <td>1.0</td>\n",
              "      <td>43</td>\n",
              "      <td>135</td>\n",
              "      <td>3</td>\n",
              "      <td>1500</td>\n",
              "      <td>0</td>\n",
              "      <td>1500</td>\n",
              "      <td>6</td>\n",
              "      <td>4</td>\n",
              "      <td>1</td>\n",
              "      <td>4</td>\n",
              "      <td>4</td>\n",
              "      <td>12</td>\n",
              "      <td>2</td>\n",
              "      <td>0</td>\n",
              "      <td>Kiralık</td>\n",
              "      <td>1</td>\n",
              "      <td>0</td>\n",
              "    </tr>\n",
              "  </tbody>\n",
              "</table>\n",
              "</div>"
            ],
            "text/plain": [
              "  Aidat  Banyo Sayısı  Bina Yaşı  ...  İlan Durumu  Cephe   Site İçerisinde\n",
              "0    30           1.0         48  ...      Kiralık       4                0\n",
              "1    35           1.0         43  ...      Kiralık       1                0\n",
              "\n",
              "[2 rows x 19 columns]"
            ]
          },
          "metadata": {
            "tags": []
          },
          "execution_count": 112
        }
      ]
    },
    {
      "cell_type": "markdown",
      "metadata": {
        "id": "OPppXAxOTnZu"
      },
      "source": [
        "# Makine Öğrenmesi"
      ]
    },
    {
      "cell_type": "code",
      "metadata": {
        "id": "LrUSl50UtvtR"
      },
      "source": [
        "from sklearn.model_selection import train_test_split\n",
        "from sklearn.linear_model import Ridge, Lasso, LinearRegression\n",
        "from sklearn.tree import ExtraTreeRegressor,DecisionTreeRegressor\n",
        "from sklearn.neighbors import KNeighborsRegressor\n",
        "from sklearn.ensemble import GradientBoostingRegressor\n",
        "\n",
        "from sklearn.metrics import r2_score,mean_absolute_error,mean_squared_error\n",
        "\n",
        "R=Ridge()\n",
        "L=Lasso()\n",
        "Lr=LinearRegression()\n",
        "Etr=ExtraTreeRegressor()\n",
        "Dtr=DecisionTreeRegressor()\n",
        "Knn=KNeighborsRegressor()\n",
        "Gbr=GradientBoostingRegressor()"
      ],
      "execution_count": null,
      "outputs": []
    },
    {
      "cell_type": "code",
      "metadata": {
        "id": "UhSK_avNtkgP"
      },
      "source": [
        "x=Tablo2.drop('Fiyat',axis=1)\n",
        "y=Tablo2['Fiyat']"
      ],
      "execution_count": null,
      "outputs": []
    },
    {
      "cell_type": "code",
      "metadata": {
        "id": "iXO1Rqh9y5AP"
      },
      "source": [
        "x=pn.get_dummies(x,drop_first=True)"
      ],
      "execution_count": null,
      "outputs": []
    },
    {
      "cell_type": "code",
      "metadata": {
        "id": "UiU-j8A2u-GE"
      },
      "source": [
        "x_train,x_test,y_train,y_test=train_test_split(x,y,test_size=0.2,random_state=18)"
      ],
      "execution_count": null,
      "outputs": []
    },
    {
      "cell_type": "code",
      "metadata": {
        "id": "9jNcI63qwMjP"
      },
      "source": [
        "def fitting(x_train,x_test,y_train,y_test):\n",
        "  algo=[R,L,Lr,Etr,Dtr,Knn,Gbr]\n",
        "  algo_names=['Ridge','Lasso','LinearReg','ExtaTreeReg','DecisionTreeReg','KNeighborsReg','GradientBoostingReg']\n",
        "  mean_a=[]\n",
        "  mean_s=[]\n",
        "  r2=[]\n",
        "  for x in algo:\n",
        "    model=x.fit(x_train,y_train)\n",
        "    pred=model.predict(x_test)\n",
        "    mean_a.append(mean_absolute_error(y_test,pred))\n",
        "    mean_s.append(mean_squared_error(y_test,pred)**0.5)\n",
        "    r2.append(r2_score(y_test,pred))\n",
        "  result={'Modeller':algo_names,'Mean_absolute':mean_a,'Mean_Squared':mean_s,'R2_Score':r2}\n",
        "  df=pn.DataFrame(result)\n",
        "  return df"
      ],
      "execution_count": null,
      "outputs": []
    },
    {
      "cell_type": "code",
      "metadata": {
        "id": "BC4cxFVIx9gk"
      },
      "source": [
        "df=fitting(x_train,x_test,y_train,y_test)"
      ],
      "execution_count": null,
      "outputs": []
    },
    {
      "cell_type": "code",
      "metadata": {
        "colab": {
          "base_uri": "https://localhost:8080/",
          "height": 266
        },
        "id": "uNi37iUuy2FZ",
        "outputId": "c06a2d08-2498-4710-83f6-a137c196e7de"
      },
      "source": [
        "df"
      ],
      "execution_count": null,
      "outputs": [
        {
          "output_type": "execute_result",
          "data": {
            "text/html": [
              "<div>\n",
              "<style scoped>\n",
              "    .dataframe tbody tr th:only-of-type {\n",
              "        vertical-align: middle;\n",
              "    }\n",
              "\n",
              "    .dataframe tbody tr th {\n",
              "        vertical-align: top;\n",
              "    }\n",
              "\n",
              "    .dataframe thead th {\n",
              "        text-align: right;\n",
              "    }\n",
              "</style>\n",
              "<table border=\"1\" class=\"dataframe\">\n",
              "  <thead>\n",
              "    <tr style=\"text-align: right;\">\n",
              "      <th></th>\n",
              "      <th>Modeller</th>\n",
              "      <th>Mean_absolute</th>\n",
              "      <th>Mean_Squared</th>\n",
              "      <th>R2_Score</th>\n",
              "    </tr>\n",
              "  </thead>\n",
              "  <tbody>\n",
              "    <tr>\n",
              "      <th>0</th>\n",
              "      <td>Ridge</td>\n",
              "      <td>329.935955</td>\n",
              "      <td>450.080240</td>\n",
              "      <td>0.806380</td>\n",
              "    </tr>\n",
              "    <tr>\n",
              "      <th>1</th>\n",
              "      <td>Lasso</td>\n",
              "      <td>326.909756</td>\n",
              "      <td>448.028950</td>\n",
              "      <td>0.808141</td>\n",
              "    </tr>\n",
              "    <tr>\n",
              "      <th>2</th>\n",
              "      <td>LinearReg</td>\n",
              "      <td>359.741861</td>\n",
              "      <td>503.048088</td>\n",
              "      <td>0.758126</td>\n",
              "    </tr>\n",
              "    <tr>\n",
              "      <th>3</th>\n",
              "      <td>ExtaTreeReg</td>\n",
              "      <td>349.514563</td>\n",
              "      <td>674.914594</td>\n",
              "      <td>0.564620</td>\n",
              "    </tr>\n",
              "    <tr>\n",
              "      <th>4</th>\n",
              "      <td>DecisionTreeReg</td>\n",
              "      <td>308.495146</td>\n",
              "      <td>583.911526</td>\n",
              "      <td>0.674115</td>\n",
              "    </tr>\n",
              "    <tr>\n",
              "      <th>5</th>\n",
              "      <td>KNeighborsReg</td>\n",
              "      <td>297.038835</td>\n",
              "      <td>516.884571</td>\n",
              "      <td>0.744637</td>\n",
              "    </tr>\n",
              "    <tr>\n",
              "      <th>6</th>\n",
              "      <td>GradientBoostingReg</td>\n",
              "      <td>289.301478</td>\n",
              "      <td>441.637993</td>\n",
              "      <td>0.813575</td>\n",
              "    </tr>\n",
              "  </tbody>\n",
              "</table>\n",
              "</div>"
            ],
            "text/plain": [
              "              Modeller  Mean_absolute  Mean_Squared  R2_Score\n",
              "0                Ridge     329.935955    450.080240  0.806380\n",
              "1                Lasso     326.909756    448.028950  0.808141\n",
              "2            LinearReg     359.741861    503.048088  0.758126\n",
              "3          ExtaTreeReg     349.514563    674.914594  0.564620\n",
              "4      DecisionTreeReg     308.495146    583.911526  0.674115\n",
              "5        KNeighborsReg     297.038835    516.884571  0.744637\n",
              "6  GradientBoostingReg     289.301478    441.637993  0.813575"
            ]
          },
          "metadata": {
            "tags": []
          },
          "execution_count": 119
        }
      ]
    },
    {
      "cell_type": "code",
      "metadata": {
        "id": "gDFbOVKGzUN4"
      },
      "source": [
        "# makine öğrenmesiyle en çok bu kadar iyi yapabildim   GradientBoostingReg "
      ],
      "execution_count": null,
      "outputs": []
    },
    {
      "cell_type": "markdown",
      "metadata": {
        "id": "PPzIk0l1Trf6"
      },
      "source": [
        "#Derin Öğrenme"
      ]
    },
    {
      "cell_type": "code",
      "metadata": {
        "id": "f8hiHFOn8Rco"
      },
      "source": [
        "from tensorflow.keras.models import Sequential\n",
        "from tensorflow.keras.layers import Dense \n",
        "from tensorflow.keras.layers import Dropout\n",
        "from tensorflow.keras.callbacks import EarlyStopping"
      ],
      "execution_count": null,
      "outputs": []
    },
    {
      "cell_type": "code",
      "metadata": {
        "id": "lKbP2CKU8owB"
      },
      "source": [
        "model=Sequential()\n",
        "\n",
        "model.add(Dense(30,activation=\"relu\"))\n",
        "\n",
        "model.add(Dense(25,activation=\"relu\"))\n",
        "\n",
        "model.add(Dense(20,activation=\"relu\"))\n",
        "\n",
        "model.add(Dense(20,activation=\"relu\"))\n",
        "\n",
        "model.add(Dense(10,activation=\"relu\"))\n",
        "\n",
        "model.add(Dense(1))\n",
        "\n",
        "model.compile(loss=\"mse\",optimizer=\"adam\")"
      ],
      "execution_count": null,
      "outputs": []
    },
    {
      "cell_type": "code",
      "metadata": {
        "colab": {
          "base_uri": "https://localhost:8080/"
        },
        "id": "nXEZ5aeR80Ng",
        "outputId": "6156f8ca-4119-461a-c6f2-5fa282d1215f"
      },
      "source": [
        "model.fit(x=x_train,y=y_train,validation_data=(x_test,y_test),verbose=1,epochs=450)"
      ],
      "execution_count": null,
      "outputs": [
        {
          "output_type": "stream",
          "text": [
            "Epoch 1/450\n",
            "13/13 [==============================] - 3s 42ms/step - loss: 5718217.4286 - val_loss: 5049136.0000\n",
            "Epoch 2/450\n",
            "13/13 [==============================] - 0s 6ms/step - loss: 5219401.5714 - val_loss: 5018319.0000\n",
            "Epoch 3/450\n",
            "13/13 [==============================] - 0s 5ms/step - loss: 5021675.3571 - val_loss: 5001398.5000\n",
            "Epoch 4/450\n",
            "13/13 [==============================] - 0s 5ms/step - loss: 5131789.9286 - val_loss: 4913194.0000\n",
            "Epoch 5/450\n",
            "13/13 [==============================] - 0s 5ms/step - loss: 5083671.2500 - val_loss: 4364755.5000\n",
            "Epoch 6/450\n",
            "13/13 [==============================] - 0s 5ms/step - loss: 4287356.3750 - val_loss: 3033331.5000\n",
            "Epoch 7/450\n",
            "13/13 [==============================] - 0s 6ms/step - loss: 2569582.4464 - val_loss: 1060896.2500\n",
            "Epoch 8/450\n",
            "13/13 [==============================] - 0s 6ms/step - loss: 600006.5982 - val_loss: 574225.5625\n",
            "Epoch 9/450\n",
            "13/13 [==============================] - 0s 6ms/step - loss: 468572.9821 - val_loss: 498200.0312\n",
            "Epoch 10/450\n",
            "13/13 [==============================] - 0s 5ms/step - loss: 409160.9308 - val_loss: 484314.7188\n",
            "Epoch 11/450\n",
            "13/13 [==============================] - 0s 5ms/step - loss: 457744.3906 - val_loss: 479800.9688\n",
            "Epoch 12/450\n",
            "13/13 [==============================] - 0s 5ms/step - loss: 469163.0536 - val_loss: 479702.5625\n",
            "Epoch 13/450\n",
            "13/13 [==============================] - 0s 5ms/step - loss: 380793.5435 - val_loss: 476813.5625\n",
            "Epoch 14/450\n",
            "13/13 [==============================] - 0s 5ms/step - loss: 470799.9799 - val_loss: 476474.5625\n",
            "Epoch 15/450\n",
            "13/13 [==============================] - 0s 5ms/step - loss: 400231.2344 - val_loss: 473644.6562\n",
            "Epoch 16/450\n",
            "13/13 [==============================] - 0s 6ms/step - loss: 466879.0000 - val_loss: 472776.4375\n",
            "Epoch 17/450\n",
            "13/13 [==============================] - 0s 6ms/step - loss: 424783.3348 - val_loss: 471170.2500\n",
            "Epoch 18/450\n",
            "13/13 [==============================] - 0s 6ms/step - loss: 388107.4464 - val_loss: 468052.3750\n",
            "Epoch 19/450\n",
            "13/13 [==============================] - 0s 7ms/step - loss: 384121.1116 - val_loss: 466613.9375\n",
            "Epoch 20/450\n",
            "13/13 [==============================] - 0s 6ms/step - loss: 442007.9196 - val_loss: 463810.5625\n",
            "Epoch 21/450\n",
            "13/13 [==============================] - 0s 5ms/step - loss: 417901.2567 - val_loss: 461418.3438\n",
            "Epoch 22/450\n",
            "13/13 [==============================] - 0s 6ms/step - loss: 413837.1507 - val_loss: 460899.5625\n",
            "Epoch 23/450\n",
            "13/13 [==============================] - 0s 6ms/step - loss: 426544.6562 - val_loss: 455965.5000\n",
            "Epoch 24/450\n",
            "13/13 [==============================] - 0s 5ms/step - loss: 564870.0558 - val_loss: 455726.5938\n",
            "Epoch 25/450\n",
            "13/13 [==============================] - 0s 5ms/step - loss: 346892.7087 - val_loss: 451289.9688\n",
            "Epoch 26/450\n",
            "13/13 [==============================] - 0s 5ms/step - loss: 392304.4911 - val_loss: 449373.0000\n",
            "Epoch 27/450\n",
            "13/13 [==============================] - 0s 5ms/step - loss: 422086.6071 - val_loss: 445365.0938\n",
            "Epoch 28/450\n",
            "13/13 [==============================] - 0s 7ms/step - loss: 553203.9085 - val_loss: 442712.2812\n",
            "Epoch 29/450\n",
            "13/13 [==============================] - 0s 6ms/step - loss: 504856.2076 - val_loss: 439844.1875\n",
            "Epoch 30/450\n",
            "13/13 [==============================] - 0s 5ms/step - loss: 453272.9777 - val_loss: 436632.5938\n",
            "Epoch 31/450\n",
            "13/13 [==============================] - 0s 5ms/step - loss: 416100.6384 - val_loss: 433097.4375\n",
            "Epoch 32/450\n",
            "13/13 [==============================] - 0s 6ms/step - loss: 382593.5558 - val_loss: 430505.5625\n",
            "Epoch 33/450\n",
            "13/13 [==============================] - 0s 5ms/step - loss: 296422.6629 - val_loss: 427800.4375\n",
            "Epoch 34/450\n",
            "13/13 [==============================] - 0s 7ms/step - loss: 427790.5826 - val_loss: 423294.4375\n",
            "Epoch 35/450\n",
            "13/13 [==============================] - 0s 5ms/step - loss: 411587.4509 - val_loss: 420797.9375\n",
            "Epoch 36/450\n",
            "13/13 [==============================] - 0s 6ms/step - loss: 338040.1869 - val_loss: 416739.9375\n",
            "Epoch 37/450\n",
            "13/13 [==============================] - 0s 7ms/step - loss: 419444.6942 - val_loss: 413928.6250\n",
            "Epoch 38/450\n",
            "13/13 [==============================] - 0s 6ms/step - loss: 416804.4040 - val_loss: 410661.0625\n",
            "Epoch 39/450\n",
            "13/13 [==============================] - 0s 7ms/step - loss: 361951.2969 - val_loss: 407404.5000\n",
            "Epoch 40/450\n",
            "13/13 [==============================] - 0s 5ms/step - loss: 402038.3951 - val_loss: 403946.5625\n",
            "Epoch 41/450\n",
            "13/13 [==============================] - 0s 6ms/step - loss: 353179.6484 - val_loss: 400216.5000\n",
            "Epoch 42/450\n",
            "13/13 [==============================] - 0s 5ms/step - loss: 450406.5201 - val_loss: 397079.0000\n",
            "Epoch 43/450\n",
            "13/13 [==============================] - 0s 6ms/step - loss: 393847.7500 - val_loss: 394264.9688\n",
            "Epoch 44/450\n",
            "13/13 [==============================] - 0s 6ms/step - loss: 433093.4955 - val_loss: 393237.0000\n",
            "Epoch 45/450\n",
            "13/13 [==============================] - 0s 6ms/step - loss: 483755.8460 - val_loss: 388401.4688\n",
            "Epoch 46/450\n",
            "13/13 [==============================] - 0s 5ms/step - loss: 496182.5179 - val_loss: 386454.8750\n",
            "Epoch 47/450\n",
            "13/13 [==============================] - 0s 6ms/step - loss: 335097.9241 - val_loss: 389737.1250\n",
            "Epoch 48/450\n",
            "13/13 [==============================] - 0s 5ms/step - loss: 346071.3438 - val_loss: 382471.2500\n",
            "Epoch 49/450\n",
            "13/13 [==============================] - 0s 6ms/step - loss: 297390.3069 - val_loss: 381294.1875\n",
            "Epoch 50/450\n",
            "13/13 [==============================] - 0s 6ms/step - loss: 363674.8839 - val_loss: 377703.5625\n",
            "Epoch 51/450\n",
            "13/13 [==============================] - 0s 5ms/step - loss: 425988.6004 - val_loss: 376898.5000\n",
            "Epoch 52/450\n",
            "13/13 [==============================] - 0s 5ms/step - loss: 401378.8839 - val_loss: 376187.5312\n",
            "Epoch 53/450\n",
            "13/13 [==============================] - 0s 6ms/step - loss: 416254.6741 - val_loss: 374460.5938\n",
            "Epoch 54/450\n",
            "13/13 [==============================] - 0s 5ms/step - loss: 388194.6205 - val_loss: 373650.1875\n",
            "Epoch 55/450\n",
            "13/13 [==============================] - 0s 6ms/step - loss: 389747.1775 - val_loss: 370941.5938\n",
            "Epoch 56/450\n",
            "13/13 [==============================] - 0s 6ms/step - loss: 365051.4487 - val_loss: 368385.6250\n",
            "Epoch 57/450\n",
            "13/13 [==============================] - 0s 6ms/step - loss: 412482.4911 - val_loss: 367035.0000\n",
            "Epoch 58/450\n",
            "13/13 [==============================] - 0s 6ms/step - loss: 397091.3438 - val_loss: 365296.0312\n",
            "Epoch 59/450\n",
            "13/13 [==============================] - 0s 6ms/step - loss: 261986.7394 - val_loss: 365459.6562\n",
            "Epoch 60/450\n",
            "13/13 [==============================] - 0s 7ms/step - loss: 375894.3795 - val_loss: 362836.5938\n",
            "Epoch 61/450\n",
            "13/13 [==============================] - 0s 6ms/step - loss: 363583.8549 - val_loss: 365735.2500\n",
            "Epoch 62/450\n",
            "13/13 [==============================] - 0s 5ms/step - loss: 276967.0625 - val_loss: 361398.2188\n",
            "Epoch 63/450\n",
            "13/13 [==============================] - 0s 6ms/step - loss: 375039.7679 - val_loss: 360994.1875\n",
            "Epoch 64/450\n",
            "13/13 [==============================] - 0s 5ms/step - loss: 376189.4040 - val_loss: 364334.5938\n",
            "Epoch 65/450\n",
            "13/13 [==============================] - 0s 6ms/step - loss: 394986.9710 - val_loss: 360561.4688\n",
            "Epoch 66/450\n",
            "13/13 [==============================] - 0s 5ms/step - loss: 329333.9442 - val_loss: 359954.7812\n",
            "Epoch 67/450\n",
            "13/13 [==============================] - 0s 5ms/step - loss: 349817.2969 - val_loss: 357310.4375\n",
            "Epoch 68/450\n",
            "13/13 [==============================] - 0s 5ms/step - loss: 370463.5022 - val_loss: 367523.6562\n",
            "Epoch 69/450\n",
            "13/13 [==============================] - 0s 5ms/step - loss: 369375.8862 - val_loss: 357048.9688\n",
            "Epoch 70/450\n",
            "13/13 [==============================] - 0s 5ms/step - loss: 387040.2388 - val_loss: 355732.0000\n",
            "Epoch 71/450\n",
            "13/13 [==============================] - 0s 6ms/step - loss: 344610.5647 - val_loss: 361554.5312\n",
            "Epoch 72/450\n",
            "13/13 [==============================] - 0s 6ms/step - loss: 390492.6317 - val_loss: 354750.5312\n",
            "Epoch 73/450\n",
            "13/13 [==============================] - 0s 6ms/step - loss: 337499.8281 - val_loss: 354175.9375\n",
            "Epoch 74/450\n",
            "13/13 [==============================] - 0s 6ms/step - loss: 407966.7812 - val_loss: 353247.3438\n",
            "Epoch 75/450\n",
            "13/13 [==============================] - 0s 6ms/step - loss: 376611.1004 - val_loss: 352768.2812\n",
            "Epoch 76/450\n",
            "13/13 [==============================] - 0s 6ms/step - loss: 352103.8237 - val_loss: 352807.4688\n",
            "Epoch 77/450\n",
            "13/13 [==============================] - 0s 6ms/step - loss: 374489.9018 - val_loss: 355071.8438\n",
            "Epoch 78/450\n",
            "13/13 [==============================] - 0s 6ms/step - loss: 391409.1339 - val_loss: 355146.9062\n",
            "Epoch 79/450\n",
            "13/13 [==============================] - 0s 5ms/step - loss: 361070.8259 - val_loss: 353277.1562\n",
            "Epoch 80/450\n",
            "13/13 [==============================] - 0s 6ms/step - loss: 295212.5938 - val_loss: 355013.6250\n",
            "Epoch 81/450\n",
            "13/13 [==============================] - 0s 6ms/step - loss: 346053.8683 - val_loss: 353162.5312\n",
            "Epoch 82/450\n",
            "13/13 [==============================] - 0s 6ms/step - loss: 392408.6562 - val_loss: 350029.1250\n",
            "Epoch 83/450\n",
            "13/13 [==============================] - 0s 5ms/step - loss: 316092.0006 - val_loss: 350895.4062\n",
            "Epoch 84/450\n",
            "13/13 [==============================] - 0s 6ms/step - loss: 346294.7433 - val_loss: 352700.3750\n",
            "Epoch 85/450\n",
            "13/13 [==============================] - 0s 6ms/step - loss: 365217.8739 - val_loss: 348187.5625\n",
            "Epoch 86/450\n",
            "13/13 [==============================] - 0s 7ms/step - loss: 300104.4989 - val_loss: 348352.6875\n",
            "Epoch 87/450\n",
            "13/13 [==============================] - 0s 6ms/step - loss: 356111.5938 - val_loss: 347314.8750\n",
            "Epoch 88/450\n",
            "13/13 [==============================] - 0s 6ms/step - loss: 389351.1786 - val_loss: 347122.3438\n",
            "Epoch 89/450\n",
            "13/13 [==============================] - 0s 5ms/step - loss: 323845.2522 - val_loss: 347832.8438\n",
            "Epoch 90/450\n",
            "13/13 [==============================] - 0s 6ms/step - loss: 339175.1719 - val_loss: 345816.6562\n",
            "Epoch 91/450\n",
            "13/13 [==============================] - 0s 6ms/step - loss: 332418.3862 - val_loss: 345248.3750\n",
            "Epoch 92/450\n",
            "13/13 [==============================] - 0s 6ms/step - loss: 407314.7076 - val_loss: 347855.2188\n",
            "Epoch 93/450\n",
            "13/13 [==============================] - 0s 6ms/step - loss: 317379.4710 - val_loss: 344425.7188\n",
            "Epoch 94/450\n",
            "13/13 [==============================] - 0s 6ms/step - loss: 385368.1295 - val_loss: 343799.5000\n",
            "Epoch 95/450\n",
            "13/13 [==============================] - 0s 6ms/step - loss: 384122.4665 - val_loss: 344030.5938\n",
            "Epoch 96/450\n",
            "13/13 [==============================] - 0s 6ms/step - loss: 350235.4888 - val_loss: 343599.8125\n",
            "Epoch 97/450\n",
            "13/13 [==============================] - 0s 6ms/step - loss: 324664.6317 - val_loss: 344520.4688\n",
            "Epoch 98/450\n",
            "13/13 [==============================] - 0s 5ms/step - loss: 376455.6942 - val_loss: 342728.1875\n",
            "Epoch 99/450\n",
            "13/13 [==============================] - 0s 6ms/step - loss: 377202.0022 - val_loss: 341783.1562\n",
            "Epoch 100/450\n",
            "13/13 [==============================] - 0s 6ms/step - loss: 377005.8125 - val_loss: 347478.7188\n",
            "Epoch 101/450\n",
            "13/13 [==============================] - 0s 6ms/step - loss: 404458.3393 - val_loss: 344359.7812\n",
            "Epoch 102/450\n",
            "13/13 [==============================] - 0s 6ms/step - loss: 355486.6116 - val_loss: 341324.5938\n",
            "Epoch 103/450\n",
            "13/13 [==============================] - 0s 5ms/step - loss: 368505.7388 - val_loss: 343194.6562\n",
            "Epoch 104/450\n",
            "13/13 [==============================] - 0s 6ms/step - loss: 341410.9554 - val_loss: 342771.8750\n",
            "Epoch 105/450\n",
            "13/13 [==============================] - 0s 6ms/step - loss: 340294.0491 - val_loss: 341909.0000\n",
            "Epoch 106/450\n",
            "13/13 [==============================] - 0s 6ms/step - loss: 315235.2489 - val_loss: 339380.5000\n",
            "Epoch 107/450\n",
            "13/13 [==============================] - 0s 7ms/step - loss: 315459.3616 - val_loss: 342703.3125\n",
            "Epoch 108/450\n",
            "13/13 [==============================] - 0s 6ms/step - loss: 378397.5469 - val_loss: 340748.3438\n",
            "Epoch 109/450\n",
            "13/13 [==============================] - 0s 6ms/step - loss: 294551.8415 - val_loss: 338752.9688\n",
            "Epoch 110/450\n",
            "13/13 [==============================] - 0s 6ms/step - loss: 315464.3069 - val_loss: 341835.8750\n",
            "Epoch 111/450\n",
            "13/13 [==============================] - 0s 6ms/step - loss: 361292.6473 - val_loss: 343367.6562\n",
            "Epoch 112/450\n",
            "13/13 [==============================] - 0s 6ms/step - loss: 360116.8214 - val_loss: 337402.1875\n",
            "Epoch 113/450\n",
            "13/13 [==============================] - 0s 6ms/step - loss: 299369.8493 - val_loss: 336484.1875\n",
            "Epoch 114/450\n",
            "13/13 [==============================] - 0s 6ms/step - loss: 339835.7835 - val_loss: 335459.8438\n",
            "Epoch 115/450\n",
            "13/13 [==============================] - 0s 6ms/step - loss: 343245.0156 - val_loss: 340774.5625\n",
            "Epoch 116/450\n",
            "13/13 [==============================] - 0s 6ms/step - loss: 360852.4844 - val_loss: 341709.1562\n",
            "Epoch 117/450\n",
            "13/13 [==============================] - 0s 7ms/step - loss: 421865.3795 - val_loss: 343024.5938\n",
            "Epoch 118/450\n",
            "13/13 [==============================] - 0s 5ms/step - loss: 334762.7679 - val_loss: 336446.1875\n",
            "Epoch 119/450\n",
            "13/13 [==============================] - 0s 6ms/step - loss: 401429.1540 - val_loss: 340543.3125\n",
            "Epoch 120/450\n",
            "13/13 [==============================] - 0s 6ms/step - loss: 361344.8103 - val_loss: 342087.8438\n",
            "Epoch 121/450\n",
            "13/13 [==============================] - 0s 5ms/step - loss: 363443.2009 - val_loss: 334313.4375\n",
            "Epoch 122/450\n",
            "13/13 [==============================] - 0s 5ms/step - loss: 325543.5625 - val_loss: 335353.5938\n",
            "Epoch 123/450\n",
            "13/13 [==============================] - 0s 6ms/step - loss: 334683.6417 - val_loss: 335635.0000\n",
            "Epoch 124/450\n",
            "13/13 [==============================] - 0s 7ms/step - loss: 326209.1004 - val_loss: 355498.8750\n",
            "Epoch 125/450\n",
            "13/13 [==============================] - 0s 6ms/step - loss: 359282.5848 - val_loss: 329761.0000\n",
            "Epoch 126/450\n",
            "13/13 [==============================] - 0s 6ms/step - loss: 352976.1942 - val_loss: 329532.5312\n",
            "Epoch 127/450\n",
            "13/13 [==============================] - 0s 5ms/step - loss: 399317.2768 - val_loss: 337064.6875\n",
            "Epoch 128/450\n",
            "13/13 [==============================] - 0s 5ms/step - loss: 372686.4554 - val_loss: 340886.0312\n",
            "Epoch 129/450\n",
            "13/13 [==============================] - 0s 5ms/step - loss: 375744.3560 - val_loss: 333445.4688\n",
            "Epoch 130/450\n",
            "13/13 [==============================] - 0s 6ms/step - loss: 384639.0112 - val_loss: 337349.3438\n",
            "Epoch 131/450\n",
            "13/13 [==============================] - 0s 6ms/step - loss: 375250.1540 - val_loss: 329971.6875\n",
            "Epoch 132/450\n",
            "13/13 [==============================] - 0s 6ms/step - loss: 299144.7020 - val_loss: 331829.3438\n",
            "Epoch 133/450\n",
            "13/13 [==============================] - 0s 6ms/step - loss: 291052.2600 - val_loss: 327329.0938\n",
            "Epoch 134/450\n",
            "13/13 [==============================] - 0s 6ms/step - loss: 389763.8817 - val_loss: 327209.9375\n",
            "Epoch 135/450\n",
            "13/13 [==============================] - 0s 6ms/step - loss: 319770.3147 - val_loss: 332730.3438\n",
            "Epoch 136/450\n",
            "13/13 [==============================] - 0s 6ms/step - loss: 343649.2812 - val_loss: 334651.6875\n",
            "Epoch 137/450\n",
            "13/13 [==============================] - 0s 6ms/step - loss: 381386.6272 - val_loss: 339099.9375\n",
            "Epoch 138/450\n",
            "13/13 [==============================] - 0s 5ms/step - loss: 294181.3482 - val_loss: 324762.8750\n",
            "Epoch 139/450\n",
            "13/13 [==============================] - 0s 6ms/step - loss: 319456.4933 - val_loss: 328893.0625\n",
            "Epoch 140/450\n",
            "13/13 [==============================] - 0s 6ms/step - loss: 316834.5167 - val_loss: 331394.6562\n",
            "Epoch 141/450\n",
            "13/13 [==============================] - 0s 6ms/step - loss: 397563.0625 - val_loss: 317924.5000\n",
            "Epoch 142/450\n",
            "13/13 [==============================] - 0s 6ms/step - loss: 269698.8270 - val_loss: 331010.6562\n",
            "Epoch 143/450\n",
            "13/13 [==============================] - 0s 5ms/step - loss: 377526.5737 - val_loss: 320932.0625\n",
            "Epoch 144/450\n",
            "13/13 [==============================] - 0s 6ms/step - loss: 291518.1205 - val_loss: 322241.5625\n",
            "Epoch 145/450\n",
            "13/13 [==============================] - 0s 6ms/step - loss: 288535.6853 - val_loss: 323422.1562\n",
            "Epoch 146/450\n",
            "13/13 [==============================] - 0s 6ms/step - loss: 374534.7768 - val_loss: 315062.3438\n",
            "Epoch 147/450\n",
            "13/13 [==============================] - 0s 6ms/step - loss: 334808.5714 - val_loss: 314823.7812\n",
            "Epoch 148/450\n",
            "13/13 [==============================] - 0s 6ms/step - loss: 299508.6908 - val_loss: 328935.2500\n",
            "Epoch 149/450\n",
            "13/13 [==============================] - 0s 6ms/step - loss: 366171.5536 - val_loss: 319223.0625\n",
            "Epoch 150/450\n",
            "13/13 [==============================] - 0s 6ms/step - loss: 272188.6685 - val_loss: 321512.4375\n",
            "Epoch 151/450\n",
            "13/13 [==============================] - 0s 6ms/step - loss: 357453.1629 - val_loss: 313369.4062\n",
            "Epoch 152/450\n",
            "13/13 [==============================] - 0s 5ms/step - loss: 331542.6864 - val_loss: 331453.3125\n",
            "Epoch 153/450\n",
            "13/13 [==============================] - 0s 5ms/step - loss: 329786.6496 - val_loss: 313947.3125\n",
            "Epoch 154/450\n",
            "13/13 [==============================] - 0s 6ms/step - loss: 354468.8371 - val_loss: 312521.5000\n",
            "Epoch 155/450\n",
            "13/13 [==============================] - 0s 7ms/step - loss: 343720.6629 - val_loss: 322726.6562\n",
            "Epoch 156/450\n",
            "13/13 [==============================] - 0s 6ms/step - loss: 337636.9107 - val_loss: 307765.4062\n",
            "Epoch 157/450\n",
            "13/13 [==============================] - 0s 7ms/step - loss: 344146.7991 - val_loss: 310198.3750\n",
            "Epoch 158/450\n",
            "13/13 [==============================] - 0s 6ms/step - loss: 312912.9475 - val_loss: 307066.0625\n",
            "Epoch 159/450\n",
            "13/13 [==============================] - 0s 6ms/step - loss: 299563.3092 - val_loss: 314689.0938\n",
            "Epoch 160/450\n",
            "13/13 [==============================] - 0s 6ms/step - loss: 277046.8850 - val_loss: 305462.0938\n",
            "Epoch 161/450\n",
            "13/13 [==============================] - 0s 6ms/step - loss: 320305.2835 - val_loss: 308037.2188\n",
            "Epoch 162/450\n",
            "13/13 [==============================] - 0s 7ms/step - loss: 366082.4509 - val_loss: 313832.1250\n",
            "Epoch 163/450\n",
            "13/13 [==============================] - 0s 7ms/step - loss: 273337.2846 - val_loss: 307419.2188\n",
            "Epoch 164/450\n",
            "13/13 [==============================] - 0s 6ms/step - loss: 319822.2232 - val_loss: 311309.4688\n",
            "Epoch 165/450\n",
            "13/13 [==============================] - 0s 6ms/step - loss: 350601.5179 - val_loss: 303617.0312\n",
            "Epoch 166/450\n",
            "13/13 [==============================] - 0s 5ms/step - loss: 358356.1897 - val_loss: 301645.2188\n",
            "Epoch 167/450\n",
            "13/13 [==============================] - 0s 6ms/step - loss: 334025.7076 - val_loss: 307557.7188\n",
            "Epoch 168/450\n",
            "13/13 [==============================] - 0s 6ms/step - loss: 350228.9397 - val_loss: 309438.3750\n",
            "Epoch 169/450\n",
            "13/13 [==============================] - 0s 6ms/step - loss: 297477.2210 - val_loss: 310845.0312\n",
            "Epoch 170/450\n",
            "13/13 [==============================] - 0s 6ms/step - loss: 340140.5446 - val_loss: 294785.7188\n",
            "Epoch 171/450\n",
            "13/13 [==============================] - 0s 6ms/step - loss: 342604.0000 - val_loss: 330717.2188\n",
            "Epoch 172/450\n",
            "13/13 [==============================] - 0s 6ms/step - loss: 284831.8315 - val_loss: 302047.1562\n",
            "Epoch 173/450\n",
            "13/13 [==============================] - 0s 6ms/step - loss: 365925.9531 - val_loss: 307468.7500\n",
            "Epoch 174/450\n",
            "13/13 [==============================] - 0s 6ms/step - loss: 310861.3862 - val_loss: 307606.7500\n",
            "Epoch 175/450\n",
            "13/13 [==============================] - 0s 6ms/step - loss: 305458.7723 - val_loss: 316876.7812\n",
            "Epoch 176/450\n",
            "13/13 [==============================] - 0s 5ms/step - loss: 331829.9152 - val_loss: 297507.6562\n",
            "Epoch 177/450\n",
            "13/13 [==============================] - 0s 5ms/step - loss: 342565.7455 - val_loss: 294997.1875\n",
            "Epoch 178/450\n",
            "13/13 [==============================] - 0s 6ms/step - loss: 301328.2042 - val_loss: 300127.2188\n",
            "Epoch 179/450\n",
            "13/13 [==============================] - 0s 6ms/step - loss: 345506.7277 - val_loss: 290794.5625\n",
            "Epoch 180/450\n",
            "13/13 [==============================] - 0s 6ms/step - loss: 269027.6842 - val_loss: 289944.5938\n",
            "Epoch 181/450\n",
            "13/13 [==============================] - 0s 5ms/step - loss: 302282.9643 - val_loss: 284320.4688\n",
            "Epoch 182/450\n",
            "13/13 [==============================] - 0s 6ms/step - loss: 284870.0904 - val_loss: 294335.6250\n",
            "Epoch 183/450\n",
            "13/13 [==============================] - 0s 6ms/step - loss: 371420.6652 - val_loss: 321223.2188\n",
            "Epoch 184/450\n",
            "13/13 [==============================] - 0s 6ms/step - loss: 308771.2188 - val_loss: 310158.3750\n",
            "Epoch 185/450\n",
            "13/13 [==============================] - 0s 7ms/step - loss: 294011.9018 - val_loss: 291521.3125\n",
            "Epoch 186/450\n",
            "13/13 [==============================] - 0s 6ms/step - loss: 303368.1496 - val_loss: 281321.9375\n",
            "Epoch 187/450\n",
            "13/13 [==============================] - 0s 6ms/step - loss: 311472.3862 - val_loss: 288019.6562\n",
            "Epoch 188/450\n",
            "13/13 [==============================] - 0s 6ms/step - loss: 278699.9955 - val_loss: 293187.8750\n",
            "Epoch 189/450\n",
            "13/13 [==============================] - 0s 6ms/step - loss: 303683.9833 - val_loss: 299877.5938\n",
            "Epoch 190/450\n",
            "13/13 [==============================] - 0s 7ms/step - loss: 327048.5201 - val_loss: 285329.4688\n",
            "Epoch 191/450\n",
            "13/13 [==============================] - 0s 6ms/step - loss: 318860.8013 - val_loss: 282136.8125\n",
            "Epoch 192/450\n",
            "13/13 [==============================] - 0s 6ms/step - loss: 324196.1897 - val_loss: 276376.1875\n",
            "Epoch 193/450\n",
            "13/13 [==============================] - 0s 6ms/step - loss: 319688.5491 - val_loss: 282318.5938\n",
            "Epoch 194/450\n",
            "13/13 [==============================] - 0s 7ms/step - loss: 276828.2969 - val_loss: 273188.3438\n",
            "Epoch 195/450\n",
            "13/13 [==============================] - 0s 5ms/step - loss: 270853.8750 - val_loss: 278247.4062\n",
            "Epoch 196/450\n",
            "13/13 [==============================] - 0s 6ms/step - loss: 256972.2344 - val_loss: 277766.2812\n",
            "Epoch 197/450\n",
            "13/13 [==============================] - 0s 6ms/step - loss: 276685.3694 - val_loss: 272104.2500\n",
            "Epoch 198/450\n",
            "13/13 [==============================] - 0s 6ms/step - loss: 309150.7879 - val_loss: 270490.3750\n",
            "Epoch 199/450\n",
            "13/13 [==============================] - 0s 7ms/step - loss: 275663.8984 - val_loss: 268914.1875\n",
            "Epoch 200/450\n",
            "13/13 [==============================] - 0s 6ms/step - loss: 282448.2455 - val_loss: 294690.1250\n",
            "Epoch 201/450\n",
            "13/13 [==============================] - 0s 6ms/step - loss: 317231.1250 - val_loss: 270008.3750\n",
            "Epoch 202/450\n",
            "13/13 [==============================] - 0s 5ms/step - loss: 242286.1049 - val_loss: 295510.3438\n",
            "Epoch 203/450\n",
            "13/13 [==============================] - 0s 6ms/step - loss: 284055.6071 - val_loss: 268378.5000\n",
            "Epoch 204/450\n",
            "13/13 [==============================] - 0s 6ms/step - loss: 336472.3616 - val_loss: 265227.6562\n",
            "Epoch 205/450\n",
            "13/13 [==============================] - 0s 5ms/step - loss: 274943.1205 - val_loss: 267762.5000\n",
            "Epoch 206/450\n",
            "13/13 [==============================] - 0s 6ms/step - loss: 232554.3594 - val_loss: 266482.7500\n",
            "Epoch 207/450\n",
            "13/13 [==============================] - 0s 6ms/step - loss: 211437.5661 - val_loss: 260006.5625\n",
            "Epoch 208/450\n",
            "13/13 [==============================] - 0s 6ms/step - loss: 257209.3750 - val_loss: 280663.3750\n",
            "Epoch 209/450\n",
            "13/13 [==============================] - 0s 6ms/step - loss: 224518.0770 - val_loss: 263974.1250\n",
            "Epoch 210/450\n",
            "13/13 [==============================] - 0s 6ms/step - loss: 238480.4754 - val_loss: 265886.5312\n",
            "Epoch 211/450\n",
            "13/13 [==============================] - 0s 6ms/step - loss: 273401.3158 - val_loss: 261231.1406\n",
            "Epoch 212/450\n",
            "13/13 [==============================] - 0s 6ms/step - loss: 300092.9263 - val_loss: 263771.5000\n",
            "Epoch 213/450\n",
            "13/13 [==============================] - 0s 6ms/step - loss: 322662.3415 - val_loss: 271193.3125\n",
            "Epoch 214/450\n",
            "13/13 [==============================] - 0s 6ms/step - loss: 282097.9799 - val_loss: 294767.0938\n",
            "Epoch 215/450\n",
            "13/13 [==============================] - 0s 6ms/step - loss: 248100.7656 - val_loss: 267777.7812\n",
            "Epoch 216/450\n",
            "13/13 [==============================] - 0s 6ms/step - loss: 256560.4085 - val_loss: 256891.5938\n",
            "Epoch 217/450\n",
            "13/13 [==============================] - 0s 7ms/step - loss: 234018.0435 - val_loss: 253525.2031\n",
            "Epoch 218/450\n",
            "13/13 [==============================] - 0s 6ms/step - loss: 311388.6362 - val_loss: 261106.0781\n",
            "Epoch 219/450\n",
            "13/13 [==============================] - 0s 6ms/step - loss: 276086.4286 - val_loss: 262273.9375\n",
            "Epoch 220/450\n",
            "13/13 [==============================] - 0s 6ms/step - loss: 287337.4085 - val_loss: 259088.5781\n",
            "Epoch 221/450\n",
            "13/13 [==============================] - 0s 6ms/step - loss: 230125.5670 - val_loss: 253326.5625\n",
            "Epoch 222/450\n",
            "13/13 [==============================] - 0s 6ms/step - loss: 304522.3337 - val_loss: 265738.7812\n",
            "Epoch 223/450\n",
            "13/13 [==============================] - 0s 6ms/step - loss: 281782.4185 - val_loss: 268914.8438\n",
            "Epoch 224/450\n",
            "13/13 [==============================] - 0s 6ms/step - loss: 257127.3828 - val_loss: 253523.1250\n",
            "Epoch 225/450\n",
            "13/13 [==============================] - 0s 6ms/step - loss: 276959.1987 - val_loss: 268761.6562\n",
            "Epoch 226/450\n",
            "13/13 [==============================] - 0s 6ms/step - loss: 279897.6585 - val_loss: 248057.8125\n",
            "Epoch 227/450\n",
            "13/13 [==============================] - 0s 6ms/step - loss: 238039.8940 - val_loss: 254703.2031\n",
            "Epoch 228/450\n",
            "13/13 [==============================] - 0s 6ms/step - loss: 279314.9665 - val_loss: 257859.2969\n",
            "Epoch 229/450\n",
            "13/13 [==============================] - 0s 6ms/step - loss: 223463.7757 - val_loss: 241968.5469\n",
            "Epoch 230/450\n",
            "13/13 [==============================] - 0s 6ms/step - loss: 268679.5346 - val_loss: 293527.2188\n",
            "Epoch 231/450\n",
            "13/13 [==============================] - 0s 6ms/step - loss: 221363.2533 - val_loss: 248830.2344\n",
            "Epoch 232/450\n",
            "13/13 [==============================] - 0s 6ms/step - loss: 238560.2344 - val_loss: 250922.9688\n",
            "Epoch 233/450\n",
            "13/13 [==============================] - 0s 6ms/step - loss: 235289.8728 - val_loss: 255725.8438\n",
            "Epoch 234/450\n",
            "13/13 [==============================] - 0s 6ms/step - loss: 254612.9040 - val_loss: 244006.6562\n",
            "Epoch 235/450\n",
            "13/13 [==============================] - 0s 6ms/step - loss: 257825.1150 - val_loss: 250844.5000\n",
            "Epoch 236/450\n",
            "13/13 [==============================] - 0s 6ms/step - loss: 220953.9364 - val_loss: 253234.2500\n",
            "Epoch 237/450\n",
            "13/13 [==============================] - 0s 6ms/step - loss: 202621.3599 - val_loss: 237720.0312\n",
            "Epoch 238/450\n",
            "13/13 [==============================] - 0s 6ms/step - loss: 285135.6741 - val_loss: 263765.4062\n",
            "Epoch 239/450\n",
            "13/13 [==============================] - 0s 6ms/step - loss: 292498.0848 - val_loss: 248205.5312\n",
            "Epoch 240/450\n",
            "13/13 [==============================] - 0s 6ms/step - loss: 301868.6842 - val_loss: 247898.8906\n",
            "Epoch 241/450\n",
            "13/13 [==============================] - 0s 5ms/step - loss: 253615.7489 - val_loss: 249278.3438\n",
            "Epoch 242/450\n",
            "13/13 [==============================] - 0s 6ms/step - loss: 252884.7612 - val_loss: 241564.9844\n",
            "Epoch 243/450\n",
            "13/13 [==============================] - 0s 6ms/step - loss: 228742.8571 - val_loss: 245123.9219\n",
            "Epoch 244/450\n",
            "13/13 [==============================] - 0s 6ms/step - loss: 249901.6920 - val_loss: 242716.5000\n",
            "Epoch 245/450\n",
            "13/13 [==============================] - 0s 6ms/step - loss: 240677.4107 - val_loss: 249588.5469\n",
            "Epoch 246/450\n",
            "13/13 [==============================] - 0s 6ms/step - loss: 223958.3181 - val_loss: 241252.0938\n",
            "Epoch 247/450\n",
            "13/13 [==============================] - 0s 6ms/step - loss: 277135.6004 - val_loss: 243966.4219\n",
            "Epoch 248/450\n",
            "13/13 [==============================] - 0s 6ms/step - loss: 189818.9509 - val_loss: 246519.3906\n",
            "Epoch 249/450\n",
            "13/13 [==============================] - 0s 6ms/step - loss: 244377.3895 - val_loss: 238772.9062\n",
            "Epoch 250/450\n",
            "13/13 [==============================] - 0s 6ms/step - loss: 267861.8438 - val_loss: 238468.8281\n",
            "Epoch 251/450\n",
            "13/13 [==============================] - 0s 6ms/step - loss: 215717.8315 - val_loss: 239606.4844\n",
            "Epoch 252/450\n",
            "13/13 [==============================] - 0s 7ms/step - loss: 253444.2545 - val_loss: 240842.0312\n",
            "Epoch 253/450\n",
            "13/13 [==============================] - 0s 5ms/step - loss: 224137.4141 - val_loss: 235850.2500\n",
            "Epoch 254/450\n",
            "13/13 [==============================] - 0s 6ms/step - loss: 209014.0000 - val_loss: 238188.5469\n",
            "Epoch 255/450\n",
            "13/13 [==============================] - 0s 6ms/step - loss: 208777.9587 - val_loss: 238998.4688\n",
            "Epoch 256/450\n",
            "13/13 [==============================] - 0s 6ms/step - loss: 229469.8248 - val_loss: 243485.2812\n",
            "Epoch 257/450\n",
            "13/13 [==============================] - 0s 6ms/step - loss: 258709.2455 - val_loss: 241142.6406\n",
            "Epoch 258/450\n",
            "13/13 [==============================] - 0s 6ms/step - loss: 204990.9888 - val_loss: 235096.2656\n",
            "Epoch 259/450\n",
            "13/13 [==============================] - 0s 6ms/step - loss: 264383.4754 - val_loss: 243809.0938\n",
            "Epoch 260/450\n",
            "13/13 [==============================] - 0s 6ms/step - loss: 271566.2612 - val_loss: 257458.9062\n",
            "Epoch 261/450\n",
            "13/13 [==============================] - 0s 7ms/step - loss: 260768.1908 - val_loss: 238993.0156\n",
            "Epoch 262/450\n",
            "13/13 [==============================] - 0s 6ms/step - loss: 235052.3426 - val_loss: 271850.5000\n",
            "Epoch 263/450\n",
            "13/13 [==============================] - 0s 6ms/step - loss: 238774.9565 - val_loss: 235151.1250\n",
            "Epoch 264/450\n",
            "13/13 [==============================] - 0s 6ms/step - loss: 276658.9208 - val_loss: 232672.0625\n",
            "Epoch 265/450\n",
            "13/13 [==============================] - 0s 6ms/step - loss: 276425.0792 - val_loss: 236181.6562\n",
            "Epoch 266/450\n",
            "13/13 [==============================] - 0s 6ms/step - loss: 246374.2600 - val_loss: 232416.6094\n",
            "Epoch 267/450\n",
            "13/13 [==============================] - 0s 6ms/step - loss: 219756.2143 - val_loss: 238799.2031\n",
            "Epoch 268/450\n",
            "13/13 [==============================] - 0s 6ms/step - loss: 216835.8806 - val_loss: 249180.9688\n",
            "Epoch 269/450\n",
            "13/13 [==============================] - 0s 6ms/step - loss: 240917.4520 - val_loss: 236297.6719\n",
            "Epoch 270/450\n",
            "13/13 [==============================] - 0s 6ms/step - loss: 230599.6685 - val_loss: 227551.5312\n",
            "Epoch 271/450\n",
            "13/13 [==============================] - 0s 6ms/step - loss: 251165.5681 - val_loss: 231790.7812\n",
            "Epoch 272/450\n",
            "13/13 [==============================] - 0s 6ms/step - loss: 216954.5681 - val_loss: 230942.6250\n",
            "Epoch 273/450\n",
            "13/13 [==============================] - 0s 6ms/step - loss: 208337.1440 - val_loss: 252217.6562\n",
            "Epoch 274/450\n",
            "13/13 [==============================] - 0s 7ms/step - loss: 242342.5681 - val_loss: 246813.7031\n",
            "Epoch 275/450\n",
            "13/13 [==============================] - 0s 6ms/step - loss: 237156.6853 - val_loss: 227174.9688\n",
            "Epoch 276/450\n",
            "13/13 [==============================] - 0s 6ms/step - loss: 287328.7243 - val_loss: 232361.2500\n",
            "Epoch 277/450\n",
            "13/13 [==============================] - 0s 6ms/step - loss: 269293.1362 - val_loss: 232018.2969\n",
            "Epoch 278/450\n",
            "13/13 [==============================] - 0s 6ms/step - loss: 267444.0592 - val_loss: 257505.3281\n",
            "Epoch 279/450\n",
            "13/13 [==============================] - 0s 6ms/step - loss: 236595.7667 - val_loss: 236011.7031\n",
            "Epoch 280/450\n",
            "13/13 [==============================] - 0s 6ms/step - loss: 222811.1842 - val_loss: 254314.9531\n",
            "Epoch 281/450\n",
            "13/13 [==============================] - 0s 6ms/step - loss: 227732.3315 - val_loss: 241326.9375\n",
            "Epoch 282/450\n",
            "13/13 [==============================] - 0s 6ms/step - loss: 233375.8929 - val_loss: 232145.3281\n",
            "Epoch 283/450\n",
            "13/13 [==============================] - 0s 6ms/step - loss: 252158.0424 - val_loss: 232010.2500\n",
            "Epoch 284/450\n",
            "13/13 [==============================] - 0s 6ms/step - loss: 211446.8225 - val_loss: 234207.1719\n",
            "Epoch 285/450\n",
            "13/13 [==============================] - 0s 6ms/step - loss: 204891.9515 - val_loss: 236765.7656\n",
            "Epoch 286/450\n",
            "13/13 [==============================] - 0s 7ms/step - loss: 266399.6473 - val_loss: 225598.0000\n",
            "Epoch 287/450\n",
            "13/13 [==============================] - 0s 7ms/step - loss: 198697.1786 - val_loss: 220828.2500\n",
            "Epoch 288/450\n",
            "13/13 [==============================] - 0s 6ms/step - loss: 222617.6585 - val_loss: 240580.3438\n",
            "Epoch 289/450\n",
            "13/13 [==============================] - 0s 6ms/step - loss: 249766.9085 - val_loss: 228317.2812\n",
            "Epoch 290/450\n",
            "13/13 [==============================] - 0s 6ms/step - loss: 215628.2444 - val_loss: 259058.8125\n",
            "Epoch 291/450\n",
            "13/13 [==============================] - 0s 6ms/step - loss: 237964.0424 - val_loss: 240683.2500\n",
            "Epoch 292/450\n",
            "13/13 [==============================] - 0s 6ms/step - loss: 225250.4989 - val_loss: 226952.4844\n",
            "Epoch 293/450\n",
            "13/13 [==============================] - 0s 6ms/step - loss: 208242.7388 - val_loss: 237757.0625\n",
            "Epoch 294/450\n",
            "13/13 [==============================] - 0s 6ms/step - loss: 244187.3125 - val_loss: 223508.8281\n",
            "Epoch 295/450\n",
            "13/13 [==============================] - 0s 6ms/step - loss: 225537.3348 - val_loss: 221357.4375\n",
            "Epoch 296/450\n",
            "13/13 [==============================] - 0s 6ms/step - loss: 224274.1696 - val_loss: 225236.7969\n",
            "Epoch 297/450\n",
            "13/13 [==============================] - 0s 6ms/step - loss: 196355.6730 - val_loss: 220487.3750\n",
            "Epoch 298/450\n",
            "13/13 [==============================] - 0s 6ms/step - loss: 185009.1574 - val_loss: 224164.5000\n",
            "Epoch 299/450\n",
            "13/13 [==============================] - 0s 7ms/step - loss: 214973.4665 - val_loss: 227954.9375\n",
            "Epoch 300/450\n",
            "13/13 [==============================] - 0s 6ms/step - loss: 173724.5424 - val_loss: 235463.4375\n",
            "Epoch 301/450\n",
            "13/13 [==============================] - 0s 6ms/step - loss: 242646.6808 - val_loss: 222645.9688\n",
            "Epoch 302/450\n",
            "13/13 [==============================] - 0s 6ms/step - loss: 230934.3996 - val_loss: 229245.1875\n",
            "Epoch 303/450\n",
            "13/13 [==============================] - 0s 6ms/step - loss: 193985.6205 - val_loss: 220860.7969\n",
            "Epoch 304/450\n",
            "13/13 [==============================] - 0s 6ms/step - loss: 199749.5491 - val_loss: 221782.8906\n",
            "Epoch 305/450\n",
            "13/13 [==============================] - 0s 6ms/step - loss: 206476.5095 - val_loss: 222426.8750\n",
            "Epoch 306/450\n",
            "13/13 [==============================] - 0s 7ms/step - loss: 247489.7232 - val_loss: 235298.1094\n",
            "Epoch 307/450\n",
            "13/13 [==============================] - 0s 6ms/step - loss: 216264.5971 - val_loss: 224289.5938\n",
            "Epoch 308/450\n",
            "13/13 [==============================] - 0s 6ms/step - loss: 211394.2227 - val_loss: 240964.7344\n",
            "Epoch 309/450\n",
            "13/13 [==============================] - 0s 6ms/step - loss: 225560.4587 - val_loss: 239974.8281\n",
            "Epoch 310/450\n",
            "13/13 [==============================] - 0s 6ms/step - loss: 241214.7109 - val_loss: 229093.8281\n",
            "Epoch 311/450\n",
            "13/13 [==============================] - 0s 6ms/step - loss: 201420.4531 - val_loss: 252731.4375\n",
            "Epoch 312/450\n",
            "13/13 [==============================] - 0s 6ms/step - loss: 223584.2857 - val_loss: 216510.8594\n",
            "Epoch 313/450\n",
            "13/13 [==============================] - 0s 7ms/step - loss: 218370.0368 - val_loss: 237944.0938\n",
            "Epoch 314/450\n",
            "13/13 [==============================] - 0s 7ms/step - loss: 205438.3862 - val_loss: 241408.9531\n",
            "Epoch 315/450\n",
            "13/13 [==============================] - 0s 6ms/step - loss: 247328.5670 - val_loss: 230613.7656\n",
            "Epoch 316/450\n",
            "13/13 [==============================] - 0s 6ms/step - loss: 222803.9040 - val_loss: 243057.3750\n",
            "Epoch 317/450\n",
            "13/13 [==============================] - 0s 6ms/step - loss: 235322.5692 - val_loss: 234252.1094\n",
            "Epoch 318/450\n",
            "13/13 [==============================] - 0s 6ms/step - loss: 226973.0938 - val_loss: 220054.4219\n",
            "Epoch 319/450\n",
            "13/13 [==============================] - 0s 6ms/step - loss: 193252.1373 - val_loss: 225634.6719\n",
            "Epoch 320/450\n",
            "13/13 [==============================] - 0s 6ms/step - loss: 210600.3761 - val_loss: 223672.3281\n",
            "Epoch 321/450\n",
            "13/13 [==============================] - 0s 6ms/step - loss: 250966.0413 - val_loss: 227747.2656\n",
            "Epoch 322/450\n",
            "13/13 [==============================] - 0s 7ms/step - loss: 201753.3610 - val_loss: 230361.2031\n",
            "Epoch 323/450\n",
            "13/13 [==============================] - 0s 6ms/step - loss: 214396.9978 - val_loss: 229305.5781\n",
            "Epoch 324/450\n",
            "13/13 [==============================] - 0s 6ms/step - loss: 203524.4152 - val_loss: 220003.5938\n",
            "Epoch 325/450\n",
            "13/13 [==============================] - 0s 6ms/step - loss: 189061.2857 - val_loss: 233726.4844\n",
            "Epoch 326/450\n",
            "13/13 [==============================] - 0s 7ms/step - loss: 238693.2031 - val_loss: 222819.9688\n",
            "Epoch 327/450\n",
            "13/13 [==============================] - 0s 7ms/step - loss: 210975.9688 - val_loss: 232707.4531\n",
            "Epoch 328/450\n",
            "13/13 [==============================] - 0s 7ms/step - loss: 183757.0218 - val_loss: 225469.2031\n",
            "Epoch 329/450\n",
            "13/13 [==============================] - 0s 6ms/step - loss: 253279.9051 - val_loss: 216832.5781\n",
            "Epoch 330/450\n",
            "13/13 [==============================] - 0s 6ms/step - loss: 220319.7400 - val_loss: 228582.7969\n",
            "Epoch 331/450\n",
            "13/13 [==============================] - 0s 6ms/step - loss: 179454.8438 - val_loss: 217099.5312\n",
            "Epoch 332/450\n",
            "13/13 [==============================] - 0s 7ms/step - loss: 204920.9665 - val_loss: 221444.2500\n",
            "Epoch 333/450\n",
            "13/13 [==============================] - 0s 6ms/step - loss: 257751.1775 - val_loss: 231478.4531\n",
            "Epoch 334/450\n",
            "13/13 [==============================] - 0s 7ms/step - loss: 174675.2779 - val_loss: 217576.7188\n",
            "Epoch 335/450\n",
            "13/13 [==============================] - 0s 6ms/step - loss: 219205.8259 - val_loss: 221172.9062\n",
            "Epoch 336/450\n",
            "13/13 [==============================] - 0s 6ms/step - loss: 219412.7891 - val_loss: 214050.3438\n",
            "Epoch 337/450\n",
            "13/13 [==============================] - 0s 6ms/step - loss: 213900.6060 - val_loss: 228962.5312\n",
            "Epoch 338/450\n",
            "13/13 [==============================] - 0s 6ms/step - loss: 260989.9944 - val_loss: 222503.3750\n",
            "Epoch 339/450\n",
            "13/13 [==============================] - 0s 6ms/step - loss: 217188.1261 - val_loss: 224765.4219\n",
            "Epoch 340/450\n",
            "13/13 [==============================] - 0s 6ms/step - loss: 202806.5218 - val_loss: 221683.6094\n",
            "Epoch 341/450\n",
            "13/13 [==============================] - 0s 6ms/step - loss: 207421.8527 - val_loss: 219354.1406\n",
            "Epoch 342/450\n",
            "13/13 [==============================] - 0s 7ms/step - loss: 189174.3265 - val_loss: 215773.9375\n",
            "Epoch 343/450\n",
            "13/13 [==============================] - 0s 6ms/step - loss: 229883.3192 - val_loss: 218889.9688\n",
            "Epoch 344/450\n",
            "13/13 [==============================] - 0s 7ms/step - loss: 197647.5190 - val_loss: 216004.1094\n",
            "Epoch 345/450\n",
            "13/13 [==============================] - 0s 7ms/step - loss: 245757.1864 - val_loss: 212679.1875\n",
            "Epoch 346/450\n",
            "13/13 [==============================] - 0s 6ms/step - loss: 223700.8036 - val_loss: 213835.1875\n",
            "Epoch 347/450\n",
            "13/13 [==============================] - 0s 6ms/step - loss: 194037.2377 - val_loss: 216020.2188\n",
            "Epoch 348/450\n",
            "13/13 [==============================] - 0s 6ms/step - loss: 185971.1060 - val_loss: 219575.5000\n",
            "Epoch 349/450\n",
            "13/13 [==============================] - 0s 6ms/step - loss: 204661.2433 - val_loss: 215748.5469\n",
            "Epoch 350/450\n",
            "13/13 [==============================] - 0s 6ms/step - loss: 248932.7210 - val_loss: 218696.1094\n",
            "Epoch 351/450\n",
            "13/13 [==============================] - 0s 6ms/step - loss: 223123.5435 - val_loss: 210431.2656\n",
            "Epoch 352/450\n",
            "13/13 [==============================] - 0s 6ms/step - loss: 255117.3315 - val_loss: 222393.5469\n",
            "Epoch 353/450\n",
            "13/13 [==============================] - 0s 6ms/step - loss: 256367.3694 - val_loss: 219612.9375\n",
            "Epoch 354/450\n",
            "13/13 [==============================] - 0s 7ms/step - loss: 220476.3862 - val_loss: 217704.5469\n",
            "Epoch 355/450\n",
            "13/13 [==============================] - 0s 7ms/step - loss: 197441.3566 - val_loss: 213899.5156\n",
            "Epoch 356/450\n",
            "13/13 [==============================] - 0s 6ms/step - loss: 192493.3248 - val_loss: 210468.9844\n",
            "Epoch 357/450\n",
            "13/13 [==============================] - 0s 8ms/step - loss: 187615.8438 - val_loss: 215833.9062\n",
            "Epoch 358/450\n",
            "13/13 [==============================] - 0s 6ms/step - loss: 206352.5770 - val_loss: 212297.9375\n",
            "Epoch 359/450\n",
            "13/13 [==============================] - 0s 6ms/step - loss: 209210.8683 - val_loss: 217743.5781\n",
            "Epoch 360/450\n",
            "13/13 [==============================] - 0s 6ms/step - loss: 193505.9554 - val_loss: 221370.0312\n",
            "Epoch 361/450\n",
            "13/13 [==============================] - 0s 6ms/step - loss: 186810.5151 - val_loss: 221903.6094\n",
            "Epoch 362/450\n",
            "13/13 [==============================] - 0s 6ms/step - loss: 219785.2254 - val_loss: 216756.8281\n",
            "Epoch 363/450\n",
            "13/13 [==============================] - 0s 6ms/step - loss: 239318.2176 - val_loss: 225651.2656\n",
            "Epoch 364/450\n",
            "13/13 [==============================] - 0s 6ms/step - loss: 207297.9241 - val_loss: 222996.8750\n",
            "Epoch 365/450\n",
            "13/13 [==============================] - 0s 6ms/step - loss: 208742.0703 - val_loss: 220905.3750\n",
            "Epoch 366/450\n",
            "13/13 [==============================] - 0s 7ms/step - loss: 201726.6685 - val_loss: 211058.5781\n",
            "Epoch 367/450\n",
            "13/13 [==============================] - 0s 6ms/step - loss: 231485.2879 - val_loss: 212693.8594\n",
            "Epoch 368/450\n",
            "13/13 [==============================] - 0s 6ms/step - loss: 184790.5926 - val_loss: 213266.2188\n",
            "Epoch 369/450\n",
            "13/13 [==============================] - 0s 6ms/step - loss: 208853.6317 - val_loss: 209277.7031\n",
            "Epoch 370/450\n",
            "13/13 [==============================] - 0s 6ms/step - loss: 189645.9118 - val_loss: 216152.2344\n",
            "Epoch 371/450\n",
            "13/13 [==============================] - 0s 6ms/step - loss: 203040.1562 - val_loss: 213868.3281\n",
            "Epoch 372/450\n",
            "13/13 [==============================] - 0s 6ms/step - loss: 214135.2645 - val_loss: 217745.9688\n",
            "Epoch 373/450\n",
            "13/13 [==============================] - 0s 6ms/step - loss: 184308.3638 - val_loss: 215833.2188\n",
            "Epoch 374/450\n",
            "13/13 [==============================] - 0s 6ms/step - loss: 219457.5033 - val_loss: 212539.3594\n",
            "Epoch 375/450\n",
            "13/13 [==============================] - 0s 7ms/step - loss: 213170.2400 - val_loss: 209137.6562\n",
            "Epoch 376/450\n",
            "13/13 [==============================] - 0s 7ms/step - loss: 193015.1747 - val_loss: 215839.1719\n",
            "Epoch 377/450\n",
            "13/13 [==============================] - 0s 6ms/step - loss: 148098.1669 - val_loss: 210243.6875\n",
            "Epoch 378/450\n",
            "13/13 [==============================] - 0s 6ms/step - loss: 180560.1384 - val_loss: 214177.6875\n",
            "Epoch 379/450\n",
            "13/13 [==============================] - 0s 6ms/step - loss: 198009.3270 - val_loss: 218240.1406\n",
            "Epoch 380/450\n",
            "13/13 [==============================] - 0s 7ms/step - loss: 215097.8259 - val_loss: 207490.6406\n",
            "Epoch 381/450\n",
            "13/13 [==============================] - 0s 6ms/step - loss: 191709.4548 - val_loss: 213576.0156\n",
            "Epoch 382/450\n",
            "13/13 [==============================] - 0s 6ms/step - loss: 204026.7461 - val_loss: 216988.2344\n",
            "Epoch 383/450\n",
            "13/13 [==============================] - 0s 7ms/step - loss: 175564.6763 - val_loss: 211295.9844\n",
            "Epoch 384/450\n",
            "13/13 [==============================] - 0s 6ms/step - loss: 223360.5279 - val_loss: 224859.9688\n",
            "Epoch 385/450\n",
            "13/13 [==============================] - 0s 6ms/step - loss: 192512.9721 - val_loss: 219658.2500\n",
            "Epoch 386/450\n",
            "13/13 [==============================] - 0s 6ms/step - loss: 250927.4118 - val_loss: 214206.6094\n",
            "Epoch 387/450\n",
            "13/13 [==============================] - 0s 6ms/step - loss: 240274.6551 - val_loss: 214332.9062\n",
            "Epoch 388/450\n",
            "13/13 [==============================] - 0s 5ms/step - loss: 234543.5301 - val_loss: 227285.2812\n",
            "Epoch 389/450\n",
            "13/13 [==============================] - 0s 6ms/step - loss: 222701.3560 - val_loss: 209659.4219\n",
            "Epoch 390/450\n",
            "13/13 [==============================] - 0s 6ms/step - loss: 166991.7723 - val_loss: 209654.0312\n",
            "Epoch 391/450\n",
            "13/13 [==============================] - 0s 7ms/step - loss: 166417.7623 - val_loss: 213129.6094\n",
            "Epoch 392/450\n",
            "13/13 [==============================] - 0s 8ms/step - loss: 168673.8421 - val_loss: 213189.8594\n",
            "Epoch 393/450\n",
            "13/13 [==============================] - 0s 6ms/step - loss: 233238.8393 - val_loss: 246639.5312\n",
            "Epoch 394/450\n",
            "13/13 [==============================] - 0s 7ms/step - loss: 216231.3114 - val_loss: 208371.9844\n",
            "Epoch 395/450\n",
            "13/13 [==============================] - 0s 6ms/step - loss: 222368.2779 - val_loss: 227614.4531\n",
            "Epoch 396/450\n",
            "13/13 [==============================] - 0s 6ms/step - loss: 238593.4743 - val_loss: 210334.9062\n",
            "Epoch 397/450\n",
            "13/13 [==============================] - 0s 6ms/step - loss: 179521.9559 - val_loss: 207664.9688\n",
            "Epoch 398/450\n",
            "13/13 [==============================] - 0s 6ms/step - loss: 204590.4453 - val_loss: 216234.1719\n",
            "Epoch 399/450\n",
            "13/13 [==============================] - 0s 6ms/step - loss: 237591.9866 - val_loss: 206936.6250\n",
            "Epoch 400/450\n",
            "13/13 [==============================] - 0s 7ms/step - loss: 186038.4643 - val_loss: 208009.3438\n",
            "Epoch 401/450\n",
            "13/13 [==============================] - 0s 6ms/step - loss: 184681.0000 - val_loss: 206593.9375\n",
            "Epoch 402/450\n",
            "13/13 [==============================] - 0s 6ms/step - loss: 164565.6931 - val_loss: 218314.0156\n",
            "Epoch 403/450\n",
            "13/13 [==============================] - 0s 6ms/step - loss: 180449.6144 - val_loss: 207019.7812\n",
            "Epoch 404/450\n",
            "13/13 [==============================] - 0s 7ms/step - loss: 163756.4029 - val_loss: 207854.3906\n",
            "Epoch 405/450\n",
            "13/13 [==============================] - 0s 6ms/step - loss: 189270.9978 - val_loss: 207945.2812\n",
            "Epoch 406/450\n",
            "13/13 [==============================] - 0s 6ms/step - loss: 193009.4732 - val_loss: 214188.8594\n",
            "Epoch 407/450\n",
            "13/13 [==============================] - 0s 6ms/step - loss: 254975.2210 - val_loss: 208702.9062\n",
            "Epoch 408/450\n",
            "13/13 [==============================] - 0s 6ms/step - loss: 195662.3571 - val_loss: 206749.4219\n",
            "Epoch 409/450\n",
            "13/13 [==============================] - 0s 6ms/step - loss: 170042.2584 - val_loss: 209332.3281\n",
            "Epoch 410/450\n",
            "13/13 [==============================] - 0s 6ms/step - loss: 208065.6239 - val_loss: 207077.8438\n",
            "Epoch 411/450\n",
            "13/13 [==============================] - 0s 7ms/step - loss: 172240.9894 - val_loss: 222782.3281\n",
            "Epoch 412/450\n",
            "13/13 [==============================] - 0s 6ms/step - loss: 199862.7578 - val_loss: 204635.5000\n",
            "Epoch 413/450\n",
            "13/13 [==============================] - 0s 7ms/step - loss: 210781.2422 - val_loss: 212627.0156\n",
            "Epoch 414/450\n",
            "13/13 [==============================] - 0s 6ms/step - loss: 194788.7835 - val_loss: 204750.2969\n",
            "Epoch 415/450\n",
            "13/13 [==============================] - 0s 7ms/step - loss: 191870.5379 - val_loss: 209125.6562\n",
            "Epoch 416/450\n",
            "13/13 [==============================] - 0s 6ms/step - loss: 225074.8036 - val_loss: 203456.2344\n",
            "Epoch 417/450\n",
            "13/13 [==============================] - 0s 6ms/step - loss: 205396.7422 - val_loss: 233995.0938\n",
            "Epoch 418/450\n",
            "13/13 [==============================] - 0s 7ms/step - loss: 183759.6339 - val_loss: 206899.7812\n",
            "Epoch 419/450\n",
            "13/13 [==============================] - 0s 6ms/step - loss: 181124.6529 - val_loss: 211191.1875\n",
            "Epoch 420/450\n",
            "13/13 [==============================] - 0s 6ms/step - loss: 212955.2121 - val_loss: 234327.3281\n",
            "Epoch 421/450\n",
            "13/13 [==============================] - 0s 8ms/step - loss: 238415.8080 - val_loss: 212627.7656\n",
            "Epoch 422/450\n",
            "13/13 [==============================] - 0s 7ms/step - loss: 213926.9676 - val_loss: 205529.3438\n",
            "Epoch 423/450\n",
            "13/13 [==============================] - 0s 6ms/step - loss: 199123.2109 - val_loss: 208300.6719\n",
            "Epoch 424/450\n",
            "13/13 [==============================] - 0s 6ms/step - loss: 213861.5391 - val_loss: 207616.1094\n",
            "Epoch 425/450\n",
            "13/13 [==============================] - 0s 6ms/step - loss: 182607.6546 - val_loss: 210895.6562\n",
            "Epoch 426/450\n",
            "13/13 [==============================] - 0s 6ms/step - loss: 185065.0915 - val_loss: 239864.4219\n",
            "Epoch 427/450\n",
            "13/13 [==============================] - 0s 6ms/step - loss: 208916.0469 - val_loss: 210445.3906\n",
            "Epoch 428/450\n",
            "13/13 [==============================] - 0s 6ms/step - loss: 207268.6038 - val_loss: 206597.8125\n",
            "Epoch 429/450\n",
            "13/13 [==============================] - 0s 6ms/step - loss: 182125.9967 - val_loss: 215971.9062\n",
            "Epoch 430/450\n",
            "13/13 [==============================] - 0s 6ms/step - loss: 197615.7790 - val_loss: 222020.5000\n",
            "Epoch 431/450\n",
            "13/13 [==============================] - 0s 6ms/step - loss: 210287.8616 - val_loss: 211690.8281\n",
            "Epoch 432/450\n",
            "13/13 [==============================] - 0s 7ms/step - loss: 198763.6161 - val_loss: 211534.7969\n",
            "Epoch 433/450\n",
            "13/13 [==============================] - 0s 6ms/step - loss: 208138.9342 - val_loss: 211446.2188\n",
            "Epoch 434/450\n",
            "13/13 [==============================] - 0s 6ms/step - loss: 209639.8683 - val_loss: 203235.0156\n",
            "Epoch 435/450\n",
            "13/13 [==============================] - 0s 6ms/step - loss: 245754.7321 - val_loss: 224305.2656\n",
            "Epoch 436/450\n",
            "13/13 [==============================] - 0s 7ms/step - loss: 157340.3521 - val_loss: 202775.5000\n",
            "Epoch 437/450\n",
            "13/13 [==============================] - 0s 6ms/step - loss: 221729.3728 - val_loss: 219124.6094\n",
            "Epoch 438/450\n",
            "13/13 [==============================] - 0s 7ms/step - loss: 198830.5971 - val_loss: 202924.5000\n",
            "Epoch 439/450\n",
            "13/13 [==============================] - 0s 6ms/step - loss: 173307.6094 - val_loss: 203354.8750\n",
            "Epoch 440/450\n",
            "13/13 [==============================] - 0s 7ms/step - loss: 205756.4420 - val_loss: 202599.0469\n",
            "Epoch 441/450\n",
            "13/13 [==============================] - 0s 6ms/step - loss: 154247.3605 - val_loss: 203903.6719\n",
            "Epoch 442/450\n",
            "13/13 [==============================] - 0s 6ms/step - loss: 165211.3393 - val_loss: 205577.0469\n",
            "Epoch 443/450\n",
            "13/13 [==============================] - 0s 6ms/step - loss: 190009.6607 - val_loss: 200736.0625\n",
            "Epoch 444/450\n",
            "13/13 [==============================] - 0s 6ms/step - loss: 229944.1228 - val_loss: 228185.0156\n",
            "Epoch 445/450\n",
            "13/13 [==============================] - 0s 6ms/step - loss: 220206.4821 - val_loss: 200508.9531\n",
            "Epoch 446/450\n",
            "13/13 [==============================] - 0s 6ms/step - loss: 201874.4464 - val_loss: 225650.2969\n",
            "Epoch 447/450\n",
            "13/13 [==============================] - 0s 6ms/step - loss: 180901.4660 - val_loss: 201549.2656\n",
            "Epoch 448/450\n",
            "13/13 [==============================] - 0s 7ms/step - loss: 195000.8482 - val_loss: 199306.4531\n",
            "Epoch 449/450\n",
            "13/13 [==============================] - 0s 6ms/step - loss: 195001.6406 - val_loss: 208967.8906\n",
            "Epoch 450/450\n",
            "13/13 [==============================] - 0s 6ms/step - loss: 176640.2494 - val_loss: 207466.6406\n"
          ],
          "name": "stdout"
        },
        {
          "output_type": "execute_result",
          "data": {
            "text/plain": [
              "<tensorflow.python.keras.callbacks.History at 0x7f94d3fb89d0>"
            ]
          },
          "metadata": {
            "tags": []
          },
          "execution_count": 123
        }
      ]
    },
    {
      "cell_type": "code",
      "metadata": {
        "id": "q5y9ymXl83JJ"
      },
      "source": [
        "kayip=pn.DataFrame(model.history.history)"
      ],
      "execution_count": null,
      "outputs": []
    },
    {
      "cell_type": "code",
      "metadata": {
        "colab": {
          "base_uri": "https://localhost:8080/",
          "height": 293
        },
        "id": "OqDfpv9F88Mz",
        "outputId": "5a12959c-acc4-47f6-ed56-91869052d1b4"
      },
      "source": [
        "kayip.plot()\n"
      ],
      "execution_count": null,
      "outputs": [
        {
          "output_type": "execute_result",
          "data": {
            "text/plain": [
              "<matplotlib.axes._subplots.AxesSubplot at 0x7f94903dc490>"
            ]
          },
          "metadata": {
            "tags": []
          },
          "execution_count": 125
        },
        {
          "output_type": "display_data",
          "data": {
            "image/png": "[encoded data removed]",
            "text/plain": [
              "<Figure size 432x288 with 1 Axes>"
            ]
          },
          "metadata": {
            "tags": [],
            "needs_background": "light"
          }
        }
      ]
    },
    {
      "cell_type": "code",
      "metadata": {
        "id": "LylUfIum8-H9"
      },
      "source": [
        "pre=model.predict(x_test)"
      ],
      "execution_count": null,
      "outputs": []
    },
    {
      "cell_type": "code",
      "metadata": {
        "colab": {
          "base_uri": "https://localhost:8080/"
        },
        "id": "YcttSdm79C3f",
        "outputId": "c09797e7-dca8-4a92-ac24-8fa0fb074dd8"
      },
      "source": [
        "\n",
        "r2_score(y_test,pre)"
      ],
      "execution_count": null,
      "outputs": [
        {
          "output_type": "execute_result",
          "data": {
            "text/plain": [
              "0.8017016156343971"
            ]
          },
          "metadata": {
            "tags": []
          },
          "execution_count": 127
        }
      ]
    },
    {
      "cell_type": "code",
      "metadata": {
        "id": "iCA-ZCmFHg-N"
      },
      "source": [
        ""
      ],
      "execution_count": null,
      "outputs": []
    }
  ]
}